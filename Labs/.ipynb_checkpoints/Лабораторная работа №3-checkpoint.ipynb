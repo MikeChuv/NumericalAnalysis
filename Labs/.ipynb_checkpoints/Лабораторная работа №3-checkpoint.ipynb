{
 "cells": [
  {
   "cell_type": "markdown",
   "id": "british-hello",
   "metadata": {},
   "source": [
    "## Лабораторная работа №3"
   ]
  },
  {
   "cell_type": "markdown",
   "id": "sapphire-paper",
   "metadata": {},
   "source": [
    "*Чуворкин Михаил А-13-19*"
   ]
  },
  {
   "cell_type": "markdown",
   "id": "bridal-bread",
   "metadata": {},
   "source": [
    "N = 33\n",
    "\n",
    "k = 1"
   ]
  },
  {
   "cell_type": "markdown",
   "id": "british-learning",
   "metadata": {},
   "source": [
    "решение с помощью LU реализовано в виде двух функций, одна из которых возвращает две матрицы – L и U, не модифицируя A, а вторая функция решает систему; решение с помощью LU по схеме частич-ного выбора модифицирует исходную матрицу А. "
   ]
  },
  {
   "cell_type": "code",
   "execution_count": 1,
   "id": "broad-tuner",
   "metadata": {},
   "outputs": [],
   "source": [
    "import numpy as np\n",
    "import matplotlib.pyplot as plt\n",
    "import pprint\n",
    "import random\n",
    "from scipy import linalg"
   ]
  },
  {
   "cell_type": "code",
   "execution_count": 2,
   "id": "engaged-alberta",
   "metadata": {},
   "outputs": [
    {
     "name": "stdout",
     "output_type": "stream",
     "text": [
      "[33 33 33 33 33]\n",
      "[7.60404265e+00 3.00683752e+01 9.50549260e-13 2.71530199e-01\n",
      " 1.55926268e+01]\n"
     ]
    },
    {
     "data": {
      "text/plain": [
       "array([33., 33., 33., 33., 33.])"
      ]
     },
     "execution_count": 2,
     "metadata": {},
     "output_type": "execute_result"
    }
   ],
   "source": [
    "A = np.array([\n",
    "    [np.sin(i + 1) ** (20 - j) for j in range(5)]\n",
    "    for i in range(5)\n",
    "])\n",
    "\n",
    "\n",
    "x = np.array([33] * 5)\n",
    "print(x)\n",
    "B = np.dot(A, x)\n",
    "print(B)\n",
    "np.linalg.solve(A, B)"
   ]
  },
  {
   "cell_type": "markdown",
   "id": "inside-coordinator",
   "metadata": {},
   "source": [
    "##### Решение с помощью LU разложения \n",
    "**LU** - возвращает 2 матрицы - L и U "
   ]
  },
  {
   "cell_type": "code",
   "execution_count": 3,
   "id": "related-wyoming",
   "metadata": {},
   "outputs": [],
   "source": [
    "def LU(A):\n",
    "    n = A.shape[0]\n",
    "    lu = A.copy()\n",
    "    for k in range(n-1):                \n",
    "        for i in range(k+1,n):          \n",
    "            lu[i,k] = lu[i,k]/lu[k,k]      \n",
    "            for j in range(k+1,n):      \n",
    "                lu[i,j] -= lu[i,k]*lu[k,j] \n",
    "    l = lu.copy()\n",
    "    for i in range(n):\n",
    "            l[i, i] = 1\n",
    "            l[i, i+1 :] = 0\n",
    "    u = lu.copy()\n",
    "    for i in range(1, n):\n",
    "        u[i, :i] = 0\n",
    "\n",
    "    return (l, u)\n"
   ]
  },
  {
   "cell_type": "code",
   "execution_count": 4,
   "id": "apparent-stylus",
   "metadata": {},
   "outputs": [],
   "source": [
    "def LU2(a):\n",
    "       \n",
    "    l_matrix = np.matrix(np.zeros([a.shape[0], a.shape[1]]))\n",
    "    u_matrix = np.matrix(np.zeros([a.shape[0], a.shape[1]]))\n",
    "    n = a.shape[0]\n",
    "\n",
    "    for k in range(n):\n",
    "        \n",
    "        for j in range(k, n):\n",
    "            u_matrix[k, j] = a[k, j] - l_matrix[k, :k] * u_matrix[:k, j]\n",
    "        \n",
    "        for i in range(k, n):\n",
    "            l_matrix[i, k] = (a[i, k] - l_matrix[i, : k] * u_matrix[: k, k]) / u_matrix[k, k]\n",
    "\n",
    "    return (l_matrix, u_matrix)"
   ]
  },
  {
   "cell_type": "markdown",
   "id": "expressed-revelation",
   "metadata": {},
   "source": [
    "##### Решение с помощью LU по схеме частичного выбора с модификацией исходной матрицы\n",
    "**lu_pivot** - возвращает вектор решений"
   ]
  },
  {
   "cell_type": "code",
   "execution_count": 5,
   "id": "convinced-gnome",
   "metadata": {},
   "outputs": [],
   "source": [
    "def lu_pivot(A, b):\n",
    "    n = A.shape[0]\n",
    "    A = A.astype(np.float64)\n",
    "    piv = np.arange(0,n)\n",
    "    for k in range(n-1):\n",
    "\n",
    "        # piv\n",
    "        max_row_index = np.argmax(abs(A[k:n,k])) + k\n",
    "        piv[[k,max_row_index]] = piv[[max_row_index,k]]\n",
    "        A[[k,max_row_index]] = A[[max_row_index,k]]\n",
    "\n",
    "        # LU \n",
    "        for i in range(k+1,n):          \n",
    "            A[i,k] = A[i,k]/A[k,k]      \n",
    "            for j in range(k+1,n):      \n",
    "                A[i,j] -= A[i,k]*A[k,j] \n",
    "\n",
    "     \n",
    "    b = b[piv]\n",
    "    y = b.copy().astype(np.float64)\n",
    "    for i in range(n): \n",
    "        for j in range(i):\n",
    "            y[i] -= A[i,j]*y[j]\n",
    "            \n",
    "    for i in range(A.shape[0]-1,-1,-1): \n",
    "        for j in range(i+1, A.shape[1]):\n",
    "            y[i] -= A[i,j]*y[j]\n",
    "        y[i] = y[i]/A[i,i]\n",
    "    \n",
    "    return y"
   ]
  },
  {
   "cell_type": "markdown",
   "id": "hybrid-order",
   "metadata": {},
   "source": [
    "**solve_LU** - принимает марицы L U и вектор правых частей и возвращает вектор решений"
   ]
  },
  {
   "cell_type": "code",
   "execution_count": 6,
   "id": "nuclear-quarterly",
   "metadata": {},
   "outputs": [],
   "source": [
    "def solve_LU(l, u, b):\n",
    "    n = l.shape[0]\n",
    "    y = np.array(np.zeros(n))\n",
    "    l = np.squeeze(np.asarray(l))\n",
    "    for i in range(n):\n",
    "        y[i] = b[i] - sum(l[i, :i] * y[:i])\n",
    "    #print(y)\n",
    "    x = np.array(np.zeros(n))\n",
    "    u = np.squeeze(np.asarray(u))\n",
    "    for i in range(n-1, -1, -1):\n",
    "        x[i] = (y[i] - sum(u[i, i:] * x[i:])) / u[i, i]\n",
    "    #print(x)\n",
    "    return x"
   ]
  },
  {
   "cell_type": "code",
   "execution_count": 7,
   "id": "pressing-knight",
   "metadata": {},
   "outputs": [
    {
     "name": "stdout",
     "output_type": "stream",
     "text": [
      "[33. 33. 33. 33. 33.]\n",
      "[33. 33. 33. 33. 33.]\n",
      "[33. 33. 33. 33. 33.]\n"
     ]
    }
   ],
   "source": [
    "# решение с помощью LU\n",
    "al, au = LU(A)\n",
    "x1 = solve_LU(al, au, B)\n",
    "print(x1)\n",
    "\n",
    "#al, au = LU2(A)\n",
    "#print(solve_LU(al, au, B))\n",
    "\n",
    "# встроенная в numpy функция решения слау\n",
    "print(np.linalg.solve(A, B))\n",
    "\n",
    "# решение по схеме частичного выбора с модификацией исходной матриц\n",
    "A_piv = A.copy()\n",
    "x_piv = lu_pivot(A_piv, B)\n",
    "print(x_piv)\n"
   ]
  },
  {
   "cell_type": "markdown",
   "id": "nuclear-confidence",
   "metadata": {},
   "source": [
    "##### Решение возмущенной системы"
   ]
  },
  {
   "cell_type": "code",
   "execution_count": 8,
   "id": "induced-utilization",
   "metadata": {},
   "outputs": [],
   "source": [
    "def delta_x_exp(x1, x2):\n",
    "    return np.linalg.norm(x2 - x1, np.inf) / np.linalg.norm(x1)\n",
    "\n",
    "def delta_x_th(a, a_err):\n",
    "    return np.linalg.cond(a, np.inf) * ( err / np.linalg.norm(a, np.inf))"
   ]
  },
  {
   "cell_type": "code",
   "execution_count": 9,
   "id": "allied-interstate",
   "metadata": {},
   "outputs": [
    {
     "name": "stdout",
     "output_type": "stream",
     "text": [
      "[ 5.15740139 -4.81167058 -4.1360393   4.44908773 -0.53400945]\n",
      "0.06989272786014215\n",
      "115076969172.38585\n",
      "270919197706601.6\n"
     ]
    }
   ],
   "source": [
    "ri = 3 #random.randint(0, 4)\n",
    "rj = 2 #random.randint(0, 4)\n",
    "Aa = A.copy()\n",
    "err = 1e-3\n",
    "Aa[ri ,rj] += err\n",
    "\n",
    "\n",
    "al, au = LU(Aa)\n",
    "x2 = solve_LU(al, au, B)\n",
    "\n",
    "print(x2 - x1)\n",
    "\n",
    "\n",
    "d_x_exp = delta_x_exp(x1, x2) \n",
    "d_x_th = delta_x_th(A, err) \n",
    "\n",
    "print(d_x_exp)\n",
    "print(d_x_th)\n",
    "print(np.linalg.cond(A, np.inf))"
   ]
  },
  {
   "cell_type": "code",
   "execution_count": 10,
   "id": "mounted-granny",
   "metadata": {},
   "outputs": [
    {
     "name": "stdout",
     "output_type": "stream",
     "text": [
      "[ 5.15740139 -4.81167058 -4.1360393   4.44908773 -0.53400945]\n",
      "0.06989272786014418\n",
      "115076969172.38585\n"
     ]
    }
   ],
   "source": [
    "Aa_piv = Aa.copy()\n",
    "x_piv_2 = lu_pivot(Aa, B)\n",
    "print(x_piv_2 - x_piv)\n",
    "\n",
    "d_x_exp = delta_x_exp(x_piv, x_piv_2) \n",
    "d_x_th = delta_x_th(A, err) \n",
    "\n",
    "print(d_x_exp)\n",
    "print(d_x_th)"
   ]
  },
  {
   "cell_type": "code",
   "execution_count": 11,
   "id": "indian-rochester",
   "metadata": {},
   "outputs": [],
   "source": [
    "delta_x1 = []\n",
    "delta_x2 = []\n",
    "delta_x3 = []\n",
    "\n",
    "for dim in range(5, 16):\n",
    "    x = np.array([33] * dim)\n",
    "    A = np.array([\n",
    "        [np.sin(i + 1) ** (20 - j) for j in range(dim)]\n",
    "        for i in range(dim)\n",
    "    ])\n",
    "    b = np.dot(A, x)\n",
    "    A[3, 2] += err;\n",
    "    \n",
    "    al, au = LU(A)\n",
    "    x1 = solve_LU(al, au, b)\n",
    "    x2 = np.linalg.solve(A, b)\n",
    "    x3 = lu_pivot(A, b)\n",
    "    delta_x1.append(delta_x_exp(x1, x))\n",
    "    delta_x2.append(delta_x_exp(x2, x))\n",
    "    delta_x3.append(delta_x_exp(x3, x))"
   ]
  },
  {
   "cell_type": "code",
   "execution_count": 12,
   "id": "statutory-buyer",
   "metadata": {},
   "outputs": [
    {
     "data": {
      "text/plain": [
       "<matplotlib.legend.Legend at 0x7f54a8f17050>"
      ]
     },
     "execution_count": 12,
     "metadata": {},
     "output_type": "execute_result"
    },
    {
     "data": {
      "image/png": "[encoded data removed]",
      "text/plain": [
       "<Figure size 1080x360 with 3 Axes>"
      ]
     },
     "metadata": {
      "needs_background": "light"
     },
     "output_type": "display_data"
    }
   ],
   "source": [
    "fig, axs = plt.subplots(1, 3, figsize = (15, 5))\n",
    "axs[0].plot(range(5,16), delta_x1, label = \"LU\")\n",
    "axs[1].plot(range(5,16), delta_x2, label = \"from numpy\")\n",
    "axs[2].plot(range(5,16), delta_x3, label = \"LU partial pivoting\")\n",
    "axs[0].legend()\n",
    "axs[1].legend()\n",
    "axs[2].legend()\n"
   ]
  },
  {
   "cell_type": "code",
   "execution_count": 13,
   "id": "apparent-australian",
   "metadata": {},
   "outputs": [
    {
     "data": {
      "text/plain": [
       "[<matplotlib.lines.Line2D at 0x7f54902cc650>]"
      ]
     },
     "execution_count": 13,
     "metadata": {},
     "output_type": "execute_result"
    },
    {
     "data": {
      "image/png": "[encoded data removed]",
      "text/plain": [
       "<Figure size 1080x360 with 1 Axes>"
      ]
     },
     "metadata": {
      "needs_background": "light"
     },
     "output_type": "display_data"
    }
   ],
   "source": [
    "fig, axs = plt.subplots(1, 1, figsize = (15, 5))\n",
    "axs.plot(range(5,16), delta_x1, label = \"LU\")\n",
    "axs.plot(range(5,16), delta_x2, label = \"LU partial pivoting\")\n",
    "axs.plot(range(5,16), delta_x3, label = \"from numpy\")"
   ]
  },
  {
   "cell_type": "markdown",
   "id": "composite-radius",
   "metadata": {},
   "source": [
    "**Вывод:** графики зависимостей погрешности от n совпали, что показывает аналогичность методов"
   ]
  },
  {
   "cell_type": "markdown",
   "id": "removable-philip",
   "metadata": {},
   "source": [
    "### Задача 3.2 "
   ]
  },
  {
   "cell_type": "markdown",
   "id": "wired-beaver",
   "metadata": {},
   "source": [
    "Вариант 33\n",
    "\n",
    "$n = 65$ \n",
    "\n",
    "$b_i = n * i + n$ \n",
    "\n",
    "На главной диагонали элементы равны 87, на 23 наддиагонали элементы равны 30, на второй побочной диагонли элементы равны 4"
   ]
  },
  {
   "cell_type": "code",
   "execution_count": 14,
   "id": "macro-reconstruction",
   "metadata": {},
   "outputs": [
    {
     "name": "stdout",
     "output_type": "stream",
     "text": [
      "array([[87.,  0.,  0., ...,  0.,  0.,  0.],\n",
      "       [ 0., 87.,  0., ...,  0.,  0.,  0.],\n",
      "       [ 0.,  0., 87., ...,  0.,  0.,  4.],\n",
      "       ...,\n",
      "       [ 0.,  0.,  0., ..., 87.,  0.,  0.],\n",
      "       [ 0.,  0.,  0., ...,  0., 87.,  0.],\n",
      "       [ 0.,  0.,  4., ...,  0.,  0., 87.]])\n"
     ]
    }
   ],
   "source": [
    "A = np.zeros((65, 65))\n",
    "for i in range(65):\n",
    "    for j in range(65):\n",
    "        if i == 66 - j:\n",
    "            A[i, j] = 4 \n",
    "        if i == j :\n",
    "            A[i , j] = 87\n",
    "        if i == j - 23:\n",
    "            A[i, j] = 30\n",
    "\n",
    "pprint.pprint(A)"
   ]
  },
  {
   "cell_type": "markdown",
   "id": "affected-remark",
   "metadata": {},
   "source": [
    "$x_k a + x_{k+23}c + x_{66-k}d = b_k$"
   ]
  },
  {
   "cell_type": "code",
   "execution_count": 15,
   "id": "subsequent-helena",
   "metadata": {},
   "outputs": [
    {
     "name": "stdout",
     "output_type": "stream",
     "text": [
      "[0, 23, 46, 20, 43]\n",
      "[1, 24, 47, 19, 42]\n",
      "[2, 25, 48, 18, 41, 64]\n",
      "[3, 26, 49, 17, 40, 63]\n",
      "[4, 27, 50, 16, 39, 62]\n",
      "[5, 28, 51, 15, 38, 61]\n",
      "[6, 29, 52, 14, 37, 60]\n",
      "[7, 30, 53, 13, 36, 59]\n",
      "[8, 31, 54, 12, 35, 58]\n",
      "[9, 32, 55, 11, 34, 57]\n",
      "[10, 33, 56]\n",
      "[11, 34, 57, 9, 32, 55]\n",
      "[12, 35, 58, 8, 31, 54]\n",
      "[13, 36, 59, 7, 30, 53]\n",
      "[14, 37, 60, 6, 29, 52]\n",
      "[15, 38, 61, 5, 28, 51]\n",
      "[16, 39, 62, 4, 27, 50]\n",
      "[17, 40, 63, 3, 26, 49]\n",
      "[18, 41, 64, 2, 25, 48]\n",
      "[19, 42, 24, 47]\n",
      "[20, 43, 23, 46]\n",
      "[21, 44, 22, 45]\n",
      "[22, 45, 21, 44]\n",
      "[23, 46, 20, 43]\n",
      "[24, 47, 19, 42]\n",
      "[25, 48, 18, 41, 64, 2]\n",
      "[26, 49, 17, 40, 63, 3]\n",
      "[27, 50, 16, 39, 62, 4]\n",
      "[28, 51, 15, 38, 61, 5]\n",
      "[29, 52, 14, 37, 60, 6]\n",
      "[30, 53, 13, 36, 59, 7]\n",
      "[31, 54, 12, 35, 58, 8]\n",
      "[32, 55, 11, 34, 57, 9]\n",
      "[33, 56, 10]\n",
      "[34, 57, 9, 32, 55, 11]\n",
      "[35, 58, 8, 31, 54, 12]\n",
      "[36, 59, 7, 30, 53, 13]\n",
      "[37, 60, 6, 29, 52, 14]\n",
      "[38, 61, 5, 28, 51, 15]\n",
      "[39, 62, 4, 27, 50, 16]\n",
      "[40, 63, 3, 26, 49, 17]\n",
      "[41, 64, 2, 25, 48, 18]\n",
      "[42, 24, 47, 19]\n",
      "[43, 23, 46, 20]\n",
      "[44, 22, 45, 21]\n",
      "[45, 21, 44, 22]\n",
      "[46, 20, 43, 23]\n",
      "[47, 19, 42, 24]\n",
      "[48, 18, 41, 64, 2, 25]\n",
      "[49, 17, 40, 63, 3, 26]\n",
      "[50, 16, 39, 62, 4, 27]\n",
      "[51, 15, 38, 61, 5, 28]\n",
      "[52, 14, 37, 60, 6, 29]\n",
      "[53, 13, 36, 59, 7, 30]\n",
      "[54, 12, 35, 58, 8, 31]\n",
      "[55, 11, 34, 57, 9, 32]\n",
      "[56, 10, 33]\n",
      "[57, 9, 32, 55, 11, 34]\n",
      "[58, 8, 31, 54, 12, 35]\n",
      "[59, 7, 30, 53, 13, 36]\n",
      "[60, 6, 29, 52, 14, 37]\n",
      "[61, 5, 28, 51, 15, 38]\n",
      "[62, 4, 27, 50, 16, 39]\n",
      "[63, 3, 26, 49, 17, 40]\n",
      "[64, 2, 25, 48, 18, 41]\n"
     ]
    }
   ],
   "source": [
    "x = np.zeros(65)\n",
    "a = 87\n",
    "c = 30\n",
    "d = 4\n",
    "\n",
    "#print(x)\n",
    "cyc = []\n",
    "\n",
    "b = np.array([(65 * i + 65) for i in range(1, 66)])\n",
    "#print(b)\n",
    "\n",
    "# ищет зацикливания в системе (выделяем слау с меньшим количеством переменных)\n",
    "def findx(k, cycle):\n",
    "    if k > 41 and k < 65:\n",
    "        #print(k)\n",
    "        if cycle.count(k) == 0:\n",
    "            cycle.append(k)\n",
    "            x[k] = (b[k] - findx(66 - k, cycle) * d) / a\n",
    "        return 0\n",
    "    if k < 2 and k >= 0:\n",
    "        #print(k)\n",
    "        if cycle.count(k) == 0:\n",
    "            cycle.append(k)\n",
    "            x[k] = (b[k] - findx(k + 23, cycle) * c) / a\n",
    "        return 0# x[k]\n",
    "    if k >=2 and k <= 41:\n",
    "        #print(k)\n",
    "        if cycle.count(k) == 0:\n",
    "            cycle.append(k)\n",
    "            if k == 33:\n",
    "                x[k] = (b[k] - findx(k + 23, cycle) * c) / (2 * a)\n",
    "            else:\n",
    "                x[k] = ( b[k] - findx(k + 23, cycle) * c - findx(66 - k, cycle) * d) / a\n",
    "        return 0# x[k]\n",
    "    if k < 0 or k > 64:\n",
    "        return 0\n",
    "\n",
    "\n",
    "for i in range(65):\n",
    "    findx(i, cyc)\n",
    "    print(cyc)\n",
    "    cyc.clear()\n",
    "    \n",
    "#print(x)"
   ]
  },
  {
   "cell_type": "markdown",
   "id": "engaged-today",
   "metadata": {},
   "source": [
    "Дальше не смог придумать, что делать"
   ]
  },
  {
   "cell_type": "markdown",
   "id": "complete-sight",
   "metadata": {},
   "source": [
    "### Задача 3. Вариант 33\n",
    "Метод минимальных невязок"
   ]
  },
  {
   "cell_type": "markdown",
   "id": "basic-macedonia",
   "metadata": {},
   "source": [
    "$m = 26$\n",
    "\n",
    "$\\beta = (66 - 33 + 5) \\cdot 26 = 988$ \n",
    "\n",
    "$$ a_{i,j} = \\frac{cos(i + j)}{0.1 \\cdot \\beta} + 0.1 \\cdot \\beta e^{-(i-j)^2}$$"
   ]
  },
  {
   "cell_type": "markdown",
   "id": "tracked-beverage",
   "metadata": {},
   "source": [
    "$$a_{i,j} = \\frac{\\cos(i + j)}{98.8} + 98.8\\cdot e^{-(i-j)^2} $$"
   ]
  },
  {
   "cell_type": "code",
   "execution_count": 16,
   "id": "acoustic-statement",
   "metadata": {},
   "outputs": [],
   "source": [
    "A = np.array([\n",
    "    [np.cos(i + j) / 98.8 + 98.8 * np.exp(-(i-j)**2) for j in range(26)]\n",
    "    for i in range(26)\n",
    "])\n",
    "x = np.array([33 for i in range(26)])"
   ]
  },
  {
   "cell_type": "code",
   "execution_count": 17,
   "id": "experienced-postage",
   "metadata": {},
   "outputs": [
    {
     "name": "stdout",
     "output_type": "stream",
     "text": [
      "[4520.24525046 5719.56144865 5778.99971561 5779.2195592  5779.30073434\n",
      " 5779.57057788 5779.78136377 5779.73929648 5779.48305248 5779.24822133\n",
      " 5779.2507057  5779.48822147 5779.74239775 5779.77954602 5779.56551235\n",
      " 5779.2970783  5779.2210409  5779.40730858 5779.6846277  5779.79803234\n",
      " 5779.64325879 5779.3626051  5779.21373611 5778.93155241 5719.49361426\n",
      " 4520.24011151]\n"
     ]
    }
   ],
   "source": [
    "b = A @ x\n",
    "print(b)"
   ]
  },
  {
   "cell_type": "code",
   "execution_count": 24,
   "id": "inclusive-groove",
   "metadata": {},
   "outputs": [
    {
     "name": "stdout",
     "output_type": "stream",
     "text": [
      "0.007061794017375197\n",
      "0.007061794017375197\n",
      "0.008153539489052002\n",
      "0.008153539489052002\n",
      "0.00809061725177208\n",
      "0.00809061725177208\n",
      "0.008892354062723215\n",
      "0.008892354062723215\n",
      "0.008602043962124724\n",
      "0.008602043962124724\n",
      "0.00931131640335852\n",
      "0.00931131640335852\n",
      "0.008880727522575162\n",
      "0.008880727522575162\n",
      "0.009548144833547387\n",
      "0.009548144833547387\n",
      "0.00904184563313603\n",
      "0.00904184563313603\n",
      "0.009690360295790408\n",
      "0.009690360295790408\n",
      "0.009141457167184648\n",
      "0.009141457167184648\n",
      "0.009781293138096404\n",
      "0.009781293138096404\n"
     ]
    },
    {
     "data": {
      "image/png": "[encoded data removed]",
      "text/plain": [
       "<Figure size 432x288 with 1 Axes>"
      ]
     },
     "metadata": {
      "needs_background": "light"
     },
     "output_type": "display_data"
    },
    {
     "name": "stdout",
     "output_type": "stream",
     "text": [
      "168.3699620740472 12\n",
      "[33.23815309 32.58331902 33.45397188 32.60815919 33.26616032 32.86918652\n",
      " 33.06540399 33.01198912 33.02003067 33.03410994 33.03049339 33.03441559\n",
      " 33.0351356  33.03513456 33.03441345 33.03049213 33.03411061 33.02003324\n",
      " 33.01199071 33.06540304 32.86918918 33.26614991 32.60817576 33.45395391\n",
      " 32.58334111 33.23813973]\n"
     ]
    },
    {
     "data": {
      "image/png": "[encoded data removed]",
      "text/plain": [
       "<Figure size 432x288 with 1 Axes>"
      ]
     },
     "metadata": {
      "needs_background": "light"
     },
     "output_type": "display_data"
    },
    {
     "name": "stdout",
     "output_type": "stream",
     "text": [
      "168.2676439485619\n",
      "[33. 33. 33. 33. 33. 33. 33. 33. 33. 33. 33. 33. 33. 33. 33. 33. 33. 33.\n",
      " 33. 33. 33. 33. 33. 33. 33. 33.]\n"
     ]
    }
   ],
   "source": [
    "n = 26\n",
    "x1 = b\n",
    "eps = 0.00001\n",
    "\n",
    "N = 0\n",
    "r0 = A @ x1 - b\n",
    "r = r0\n",
    "tau = ((A@r)@r) / ((A@r)@(A@r)) # tau_1\n",
    "\n",
    "while np.linalg.norm(r)/np.linalg.norm(r0)>eps:\n",
    "    N += 1\n",
    "    x1 = x1 - tau * r\n",
    "    r = A @ x1 - b\n",
    "    print( ((A@r)@r) / ((A@r)@(A@r)) )\n",
    "    tau = np.dot(A@r, r) / np.dot(A@r, A@r)\n",
    "    print(tau)\n",
    "    #print(tau)\n",
    "     \n",
    "\n",
    "plt.plot(x1)\n",
    "plt.show()\n",
    "print(np.linalg.norm(x1),N)\n",
    "print(x1)\n",
    "\n",
    "plt.plot(np.linalg.solve(A,b))\n",
    "plt.show()\n",
    "print(np.linalg.norm(np.linalg.solve(A,b)))\n",
    "print(np.linalg.solve(A, b))"
   ]
  }
 ],
 "metadata": {
  "kernelspec": {
   "display_name": "Python 3",
   "language": "python",
   "name": "python3"
  },
  "language_info": {
   "codemirror_mode": {
    "name": "ipython",
    "version": 3
   },
   "file_extension": ".py",
   "mimetype": "text/x-python",
   "name": "python",
   "nbconvert_exporter": "python",
   "pygments_lexer": "ipython3",
   "version": "3.7.5"
  }
 },
 "nbformat": 4,
 "nbformat_minor": 5
}
