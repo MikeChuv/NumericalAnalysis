{
 "cells": [
  {
   "cell_type": "code",
   "execution_count": 1,
   "id": "elder-accounting",
   "metadata": {},
   "outputs": [],
   "source": [
    "import numpy as np\n",
    "import matplotlib as plt"
   ]
  },
  {
   "cell_type": "code",
   "execution_count": 3,
   "id": "biblical-africa",
   "metadata": {},
   "outputs": [
    {
     "name": "stdout",
     "output_type": "stream",
     "text": [
      "397.6552734375\n"
     ]
    }
   ],
   "source": [
    "x = 1.0\n",
    "for i in range(10):\n",
    "    x = 1.5 * x + 3\n",
    "print(x)"
   ]
  },
  {
   "cell_type": "code",
   "execution_count": 4,
   "id": "indian-shirt",
   "metadata": {},
   "outputs": [],
   "source": [
    "def polyInter(x, y):\n",
    "    m = x.shape[0]\n",
    "    A = np.zeros((m, m))\n",
    "    for i in range(m):\n",
    "        for j in range(m):\n",
    "            A[i, j] = x[i] ** j\n",
    "    a = np.linalg.solve(A, y)\n",
    "    l = lambda x: sum(ai * x ** i for i, ai in enumerate(a))\n",
    "    return l\n"
   ]
  },
  {
   "cell_type": "code",
   "execution_count": 9,
   "id": "surgical-baltimore",
   "metadata": {},
   "outputs": [],
   "source": [
    "x = np.array([2, 2.2])\n",
    "y = 4 * np.log(x)\n",
    "lx = polyInter(x, y)"
   ]
  },
  {
   "cell_type": "code",
   "execution_count": 10,
   "id": "affiliated-stress",
   "metadata": {},
   "outputs": [
    {
     "name": "stdout",
     "output_type": "stream",
     "text": [
      "2.9632090818484307\n"
     ]
    }
   ],
   "source": [
    "print(lx(2.1))"
   ]
  },
  {
   "cell_type": "code",
   "execution_count": 14,
   "id": "hindu-society",
   "metadata": {},
   "outputs": [],
   "source": [
    "def Phi(a):\n",
    "    return lambda x: a * (x - 3)"
   ]
  },
  {
   "cell_type": "code",
   "execution_count": 15,
   "id": "adopted-preservation",
   "metadata": {},
   "outputs": [],
   "source": [
    "def sigma(phi, y, x):\n",
    "    n = x.shape[0]\n",
    "    s = sum( (phi(x) - y) ** 2 )\n",
    "    return np.sqrt(s / n)"
   ]
  },
  {
   "cell_type": "code",
   "execution_count": 20,
   "id": "indie-austin",
   "metadata": {},
   "outputs": [
    {
     "name": "stdout",
     "output_type": "stream",
     "text": [
      "0.8249579113843054\n"
     ]
    }
   ],
   "source": [
    "x = np.array([0.0, 1.0, 2.0, 3.0])\n",
    "y = np.array([1.0, -1.0, 1.0, 0.0])\n",
    "print(sigma(Phi(-1/6), y, x))"
   ]
  },
  {
   "cell_type": "code",
   "execution_count": 21,
   "id": "based-firewall",
   "metadata": {},
   "outputs": [
    {
     "name": "stdout",
     "output_type": "stream",
     "text": [
      "1.0\n"
     ]
    }
   ],
   "source": [
    "x = np.array([-1.0, 0.0, 1.0])\n",
    "y = 3 ** x\n",
    "lx = polyInter(x, y)\n",
    "print(lx(0.0))"
   ]
  },
  {
   "cell_type": "code",
   "execution_count": 24,
   "id": "parliamentary-workplace",
   "metadata": {},
   "outputs": [
    {
     "name": "stdout",
     "output_type": "stream",
     "text": [
      "0.10686284935900381\n"
     ]
    }
   ],
   "source": [
    "x_data = np.linspace(-1, 1, 1000)\n",
    "print(max(abs(lx(x_data) - (3 ** x_data))))"
   ]
  },
  {
   "cell_type": "code",
   "execution_count": 25,
   "id": "cooked-region",
   "metadata": {},
   "outputs": [
    {
     "name": "stdout",
     "output_type": "stream",
     "text": [
      "3.0833333333333335\n"
     ]
    }
   ],
   "source": [
    "a = 1 / 3\n",
    "y = 3 + a * 0.25\n",
    "print(y)"
   ]
  },
  {
   "cell_type": "code",
   "execution_count": 29,
   "id": "tamil-librarian",
   "metadata": {},
   "outputs": [
    {
     "name": "stdout",
     "output_type": "stream",
     "text": [
      "1.2019131648211814\n"
     ]
    }
   ],
   "source": [
    "x = 1.9\n",
    "for i in range(10):\n",
    "    x = x - 0.7 * (0.3 * x - np.cos(x))\n",
    "print(x)"
   ]
  },
  {
   "cell_type": "code",
   "execution_count": 50,
   "id": "weird-ottawa",
   "metadata": {},
   "outputs": [
    {
     "ename": "ValueError",
     "evalue": "Input must be 1- or 2-d.",
     "output_type": "error",
     "traceback": [
      "\u001b[0;31m---------------------------------------------------------------------------\u001b[0m",
      "\u001b[0;31mValueError\u001b[0m                                Traceback (most recent call last)",
      "\u001b[0;32m<ipython-input-50-0163d8c3d335>\u001b[0m in \u001b[0;36m<module>\u001b[0;34m\u001b[0m\n\u001b[1;32m      2\u001b[0m \u001b[0;32mfor\u001b[0m \u001b[0mi\u001b[0m \u001b[0;32min\u001b[0m \u001b[0mrange\u001b[0m\u001b[0;34m(\u001b[0m\u001b[0mx\u001b[0m\u001b[0;34m.\u001b[0m\u001b[0mshape\u001b[0m\u001b[0;34m[\u001b[0m\u001b[0;36m0\u001b[0m\u001b[0;34m]\u001b[0m\u001b[0;34m)\u001b[0m\u001b[0;34m:\u001b[0m\u001b[0;34m\u001b[0m\u001b[0;34m\u001b[0m\u001b[0m\n\u001b[1;32m      3\u001b[0m     \u001b[0mxhelp\u001b[0m \u001b[0;34m=\u001b[0m \u001b[0;34m(\u001b[0m\u001b[0mx\u001b[0m\u001b[0;34m[\u001b[0m\u001b[0mi\u001b[0m\u001b[0;34m]\u001b[0m \u001b[0;34m-\u001b[0m \u001b[0mx\u001b[0m\u001b[0;34m)\u001b[0m\u001b[0;34m\u001b[0m\u001b[0;34m\u001b[0m\u001b[0m\n\u001b[0;32m----> 4\u001b[0;31m     \u001b[0mprint\u001b[0m\u001b[0;34m(\u001b[0m\u001b[0mnp\u001b[0m\u001b[0;34m.\u001b[0m\u001b[0mdiag\u001b[0m\u001b[0;34m(\u001b[0m\u001b[0;36m4\u001b[0m\u001b[0;34m)\u001b[0m\u001b[0;34m)\u001b[0m\u001b[0;34m\u001b[0m\u001b[0;34m\u001b[0m\u001b[0m\n\u001b[0m",
      "\u001b[0;32m<__array_function__ internals>\u001b[0m in \u001b[0;36mdiag\u001b[0;34m(*args, **kwargs)\u001b[0m\n",
      "\u001b[0;32m~/.local/lib/python3.7/site-packages/numpy/lib/twodim_base.py\u001b[0m in \u001b[0;36mdiag\u001b[0;34m(v, k)\u001b[0m\n\u001b[1;32m    296\u001b[0m         \u001b[0;32mreturn\u001b[0m \u001b[0mdiagonal\u001b[0m\u001b[0;34m(\u001b[0m\u001b[0mv\u001b[0m\u001b[0;34m,\u001b[0m \u001b[0mk\u001b[0m\u001b[0;34m)\u001b[0m\u001b[0;34m\u001b[0m\u001b[0;34m\u001b[0m\u001b[0m\n\u001b[1;32m    297\u001b[0m     \u001b[0;32melse\u001b[0m\u001b[0;34m:\u001b[0m\u001b[0;34m\u001b[0m\u001b[0;34m\u001b[0m\u001b[0m\n\u001b[0;32m--> 298\u001b[0;31m         \u001b[0;32mraise\u001b[0m \u001b[0mValueError\u001b[0m\u001b[0;34m(\u001b[0m\u001b[0;34m\"Input must be 1- or 2-d.\"\u001b[0m\u001b[0;34m)\u001b[0m\u001b[0;34m\u001b[0m\u001b[0;34m\u001b[0m\u001b[0m\n\u001b[0m\u001b[1;32m    299\u001b[0m \u001b[0;34m\u001b[0m\u001b[0m\n\u001b[1;32m    300\u001b[0m \u001b[0;34m\u001b[0m\u001b[0m\n",
      "\u001b[0;31mValueError\u001b[0m: Input must be 1- or 2-d."
     ]
    }
   ],
   "source": [
    "x = np.array([3, 4, 5, 6])\n",
    "for i in range(x.shape[0]):\n",
    "    xhelp = (x[i] - x)\n",
    "    print(np.diag(4))"
   ]
  },
  {
   "cell_type": "code",
   "execution_count": null,
   "id": "metropolitan-village",
   "metadata": {},
   "outputs": [],
   "source": []
  }
 ],
 "metadata": {
  "kernelspec": {
   "display_name": "Python 3",
   "language": "python",
   "name": "python3"
  },
  "language_info": {
   "codemirror_mode": {
    "name": "ipython",
    "version": 3
   },
   "file_extension": ".py",
   "mimetype": "text/x-python",
   "name": "python",
   "nbconvert_exporter": "python",
   "pygments_lexer": "ipython3",
   "version": "3.7.5"
  }
 },
 "nbformat": 4,
 "nbformat_minor": 5
}
