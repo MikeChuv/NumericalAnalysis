{
 "cells": [
  {
   "cell_type": "code",
   "execution_count": 1,
   "id": "elegant-rouge",
   "metadata": {},
   "outputs": [],
   "source": [
    "import numpy as np\n"
   ]
  },
  {
   "cell_type": "code",
   "execution_count": 2,
   "id": "center-black",
   "metadata": {},
   "outputs": [],
   "source": [
    "A = np.array([\n",
    "    [121, -10, 4, -3],\n",
    "    [-7, 83, -7, 1],\n",
    "    [-10, -10, 158, -3],\n",
    "    [-6, 3, 7, 89]\n",
    "])"
   ]
  },
  {
   "cell_type": "code",
   "execution_count": 3,
   "id": "active-guitar",
   "metadata": {},
   "outputs": [
    {
     "name": "stdout",
     "output_type": "stream",
     "text": [
      "[ 2. -9.  3. -3.]\n"
     ]
    }
   ],
   "source": [
    "b = np.array([353, -785, 553, -285])\n",
    "print(np.linalg.solve(A, b))"
   ]
  },
  {
   "cell_type": "code",
   "execution_count": 4,
   "id": "passive-completion",
   "metadata": {},
   "outputs": [],
   "source": [
    "B = np.array([\n",
    "    [0, 10/121, -4/121, 3/121],\n",
    "    [7/83, 0, 7/83, -1/83],\n",
    "    [5/79, 5/79, 0, 3/158],\n",
    "    [6/89, -3/89, -7/89, 0]\n",
    "])"
   ]
  },
  {
   "cell_type": "code",
   "execution_count": 5,
   "id": "trying-wages",
   "metadata": {},
   "outputs": [
    {
     "name": "stdout",
     "output_type": "stream",
     "text": [
      "[ 2.91735537 -9.45783133  3.5        -3.20224719]\n"
     ]
    }
   ],
   "source": [
    "x_0 = np.array([353/121, -785/83, 7/2, -285/89])\n",
    "print(x_0)"
   ]
  },
  {
   "cell_type": "code",
   "execution_count": 6,
   "id": "baking-lawsuit",
   "metadata": {},
   "outputs": [
    {
     "name": "stdout",
     "output_type": "stream",
     "text": [
      "[ 1.94061938 -8.87802729  3.02524366 -2.96204914]\n"
     ]
    }
   ],
   "source": [
    "x_1 = np.dot(B, x_0) + x_0\n",
    "print(x_1)"
   ]
  },
  {
   "cell_type": "code",
   "execution_count": 7,
   "id": "empty-hanging",
   "metadata": {},
   "outputs": [
    {
     "name": "stdout",
     "output_type": "stream",
     "text": [
      "[ 2.01018682 -9.00333626  3.00468211 -3.01010008]\n"
     ]
    }
   ],
   "source": [
    "x_2 = np.dot(B, x_1) + x_0\n",
    "print(x_2)"
   ]
  },
  {
   "cell_type": "code",
   "execution_count": 8,
   "id": "elementary-genome",
   "metadata": {},
   "outputs": [
    {
     "name": "stdout",
     "output_type": "stream",
     "text": [
      "[ 1.99931908 -8.99862431  3.00024181 -2.99956905]\n"
     ]
    }
   ],
   "source": [
    "x_3 = np.dot(B, x_2) + x_0\n",
    "print(x_3)"
   ]
  },
  {
   "cell_type": "code",
   "execution_count": 9,
   "id": "charged-seventh",
   "metadata": {},
   "outputs": [
    {
     "name": "stdout",
     "output_type": "stream",
     "text": [
      "[118.18505483 -48.12373479  75.01150111 -21.37762621]\n",
      "118.18505482604576\n"
     ]
    }
   ],
   "source": [
    "r_0 = np.dot(A, x_0) - b\n",
    "print(r_0)\n",
    "print(max(r_0))"
   ]
  },
  {
   "cell_type": "code",
   "execution_count": 10,
   "id": "statistical-ensemble",
   "metadata": {},
   "outputs": [
    {
     "name": "stdout",
     "output_type": "stream",
     "text": [
      "[-8.41765982 10.40064433  3.24872542  4.27653369]\n",
      "10.400644332201864\n"
     ]
    }
   ],
   "source": [
    "r_1 = np.dot(A, x_1) - b\n",
    "print(r_1)\n",
    "print(max(r_1))"
   ]
  },
  {
   "cell_type": "code",
   "execution_count": 11,
   "id": "cognitive-excerpt",
   "metadata": {},
   "outputs": [
    {
     "name": "stdout",
     "output_type": "stream",
     "text": [
      "[ 1.31499629 -0.39109212  0.70156813 -0.9372624 ]\n",
      "1.3149962863094515\n"
     ]
    }
   ],
   "source": [
    "r_2 = np.dot(A, x_2) - b\n",
    "print(r_2)\n",
    "print(max(r_2))"
   ]
  },
  {
   "cell_type": "code",
   "execution_count": 12,
   "id": "indirect-fitness",
   "metadata": {},
   "outputs": [
    {
     "name": "stdout",
     "output_type": "stream",
     "text": [
      "[-0.09647387  0.11768734  0.02996473  0.04826015]\n",
      "0.11768733600365522\n"
     ]
    }
   ],
   "source": [
    "r_3 = np.dot(A, x_3) - b\n",
    "print(r_3)\n",
    "print(max(r_3))"
   ]
  },
  {
   "cell_type": "code",
   "execution_count": 13,
   "id": "confirmed-diesel",
   "metadata": {},
   "outputs": [
    {
     "name": "stdout",
     "output_type": "stream",
     "text": [
      "1004.2291621111644\n"
     ]
    }
   ],
   "source": [
    "print(max(r_0) / max(r_3))"
   ]
  },
  {
   "cell_type": "code",
   "execution_count": 14,
   "id": "mobile-anaheim",
   "metadata": {},
   "outputs": [
    {
     "name": "stdout",
     "output_type": "stream",
     "text": [
      "[-0.01086774  0.00471195 -0.0044403   0.01053104]\n",
      "0.010867737903384356\n"
     ]
    }
   ],
   "source": [
    "print(x_3 - x_2)\n",
    "print(max( abs(x_3 - x_2) ))"
   ]
  },
  {
   "cell_type": "code",
   "execution_count": 15,
   "id": "cross-reconstruction",
   "metadata": {},
   "outputs": [],
   "source": [
    "# def zeidel(x):\n",
    "#     for i in range(x.shape[0]):\n",
    "#         x[i] = "
   ]
  },
  {
   "cell_type": "code",
   "execution_count": 16,
   "id": "cosmetic-cedar",
   "metadata": {},
   "outputs": [],
   "source": [
    "B1 = np.array([\n",
    "    [0, 0, 0, 0],\n",
    "    [7/83, 0, 0, 0],\n",
    "    [5/79, 5/79, 0, 0],\n",
    "    [6/89, -3/89, -7/89, 0]\n",
    "])"
   ]
  },
  {
   "cell_type": "code",
   "execution_count": 17,
   "id": "elect-decimal",
   "metadata": {},
   "outputs": [],
   "source": [
    "B2 = np.array([\n",
    "    [0, 10/121, -4/121, 3/121],\n",
    "    [0, 0, 7/83, -1/83],\n",
    "    [0, 0, 0, 3/158],\n",
    "    [0, 0, 0, 0]\n",
    "])"
   ]
  },
  {
   "cell_type": "code",
   "execution_count": 18,
   "id": "above-couple",
   "metadata": {},
   "outputs": [
    {
     "name": "stdout",
     "output_type": "stream",
     "text": [
      "[ 2.91735537 -9.21178931  3.10161811 -2.93900929]\n"
     ]
    }
   ],
   "source": [
    "x0_0 = np.zeros(4)\n",
    "x0_0[0] = x_0[0]\n",
    "x0_0[1] = np.dot(B1, x0_0)[1] + x_0[1]\n",
    "x0_0[2] = np.dot(B1, x0_0)[2] + x_0[2]\n",
    "x0_0[3] = np.dot(B1, x0_0)[3] + x_0[3]\n",
    "print(x0_0)"
   ]
  },
  {
   "cell_type": "code",
   "execution_count": 19,
   "id": "previous-enemy",
   "metadata": {},
   "outputs": [
    {
     "name": "stdout",
     "output_type": "stream",
     "text": [
      "[ 2.91735537 -9.45783133  3.5        -3.20224719]\n"
     ]
    }
   ],
   "source": [
    "# xz_0 = np.zeros(4)\n",
    "# for i in range(4):\n",
    "#     xz_0[i] = np.dot(B1, xz_0)[i] + x_0[i]\n",
    "# print(xz_0)\n",
    "xz_0 = np.array([353/121, -785/83, 3.5, -285/89])\n",
    "print(xz_0)"
   ]
  },
  {
   "cell_type": "code",
   "execution_count": 20,
   "id": "settled-petite",
   "metadata": {},
   "outputs": [
    {
     "name": "stdout",
     "output_type": "stream",
     "text": [
      "0.0 \t -0.9767359902978989 \t 2.9173553719008263\n",
      "0.1636666948339818 \t 0.33376201434953295 \t -9.457831325301205\n",
      "-0.44429007813384574 \t -0.060802161854643724 \t 3.5\n",
      "0.19730977323471977 \t 0.0 \t -3.202247191011236\n",
      "[ 1.94061938 -8.96040262  2.99490776 -3.00493742]\n"
     ]
    }
   ],
   "source": [
    "xz_1 = np.zeros(4)\n",
    "for i in range(4):\n",
    "    print(np.dot(B1, xz_1)[i], \"\\t\", np.dot(B2, xz_0)[i], \"\\t\", x_0[i])\n",
    "    xz_1[i] = np.dot(B1, xz_1)[i] + np.dot(B2, xz_0)[i] + x_0[i]\n",
    "print(xz_1)"
   ]
  },
  {
   "cell_type": "code",
   "execution_count": 21,
   "id": "purple-cigarette",
   "metadata": {},
   "outputs": [
    {
     "name": "stdout",
     "output_type": "stream",
     "text": [
      "[ 2.00331843 -9.00009011  3.00011058 -2.99978194]\n"
     ]
    }
   ],
   "source": [
    "xz_2 = np.zeros(4)\n",
    "for i in range(4):\n",
    "    xz_2[i] = np.dot(B1, xz_2)[i] + np.dot(B2, xz_1)[i] + x_0[i]\n",
    "print(xz_2)"
   ]
  },
  {
   "cell_type": "code",
   "execution_count": 22,
   "id": "foreign-tackle",
   "metadata": {},
   "outputs": [
    {
     "name": "stdout",
     "output_type": "stream",
     "text": [
      "[ 1.9999943  -8.99999378  3.00000417 -3.00000092]\n"
     ]
    }
   ],
   "source": [
    "xz_3 = np.zeros(4)\n",
    "for i in range(4):\n",
    "    xz_3[i] = np.dot(B1, xz_3)[i] + np.dot(B2, xz_2)[i] + x_0[i]\n",
    "print(xz_3)"
   ]
  },
  {
   "cell_type": "code",
   "execution_count": 23,
   "id": "american-intelligence",
   "metadata": {},
   "outputs": [
    {
     "name": "stdout",
     "output_type": "stream",
     "text": [
      "[118.18505483 -48.12373479  75.01150111 -21.37762621]\n",
      "118.18505482604576\n"
     ]
    }
   ],
   "source": [
    "rz_0 = np.dot(A, xz_0) - b\n",
    "print(rz_0)\n",
    "print(max(abs(rz_0)))"
   ]
  },
  {
   "cell_type": "code",
   "execution_count": 24,
   "id": "static-female",
   "metadata": {},
   "outputs": [
    {
     "name": "stdout",
     "output_type": "stream",
     "text": [
      "[-7.58658537e+00  3.73295545e+00 -5.91929320e-01 -5.68434189e-14]\n",
      "7.5865853714933\n"
     ]
    }
   ],
   "source": [
    "\n",
    "rz_1 = np.dot(A, xz_1) - b\n",
    "print(rz_1)\n",
    "print(max(abs(rz_1)))"
   ]
  },
  {
   "cell_type": "code",
   "execution_count": 25,
   "id": "vocational-cyprus",
   "metadata": {},
   "outputs": [
    {
     "name": "stdout",
     "output_type": "stream",
     "text": [
      "[ 4.02219794e-01 -3.12642377e-02 -1.54664188e-02  5.68434189e-14]\n",
      "0.40221979436944366\n"
     ]
    }
   ],
   "source": [
    "\n",
    "rz_2 = np.dot(A, xz_2) - b\n",
    "print(rz_2)\n",
    "print(max(abs(rz_2)))"
   ]
  },
  {
   "cell_type": "code",
   "execution_count": 26,
   "id": "smoking-princess",
   "metadata": {},
   "outputs": [
    {
     "name": "stdout",
     "output_type": "stream",
     "text": [
      "[-0.00073197  0.00052584  0.00065693  0.        ]\n",
      "0.0007319710183537609\n"
     ]
    }
   ],
   "source": [
    "\n",
    "rz_3 = np.dot(A, xz_3) - b\n",
    "print(rz_3)\n",
    "print(max(abs(rz_3)))"
   ]
  },
  {
   "cell_type": "code",
   "execution_count": 27,
   "id": "matched-driver",
   "metadata": {},
   "outputs": [
    {
     "name": "stdout",
     "output_type": "stream",
     "text": [
      "161461.3855776009\n"
     ]
    }
   ],
   "source": [
    "print( max(abs(rz_0)) / max(abs(rz_3)) )"
   ]
  },
  {
   "cell_type": "code",
   "execution_count": 28,
   "id": "democratic-introduction",
   "metadata": {},
   "outputs": [
    {
     "data": {
      "text/plain": [
       "0.003324130531979108"
      ]
     },
     "execution_count": 28,
     "metadata": {},
     "output_type": "execute_result"
    }
   ],
   "source": [
    "max(abs(xz_3 - xz_2))"
   ]
  },
  {
   "cell_type": "code",
   "execution_count": 29,
   "id": "reserved-retreat",
   "metadata": {},
   "outputs": [
    {
     "name": "stdout",
     "output_type": "stream",
     "text": [
      "[2.66666667 2.66666667]\n"
     ]
    }
   ],
   "source": [
    "A_12 = np.array([\n",
    "    [2, 1],\n",
    "    [1, 2]\n",
    "])\n",
    "b_12 = np.array([8, 8])\n",
    "print(np.linalg.solve(A_12, b_12))"
   ]
  },
  {
   "cell_type": "code",
   "execution_count": 30,
   "id": "irish-mandate",
   "metadata": {},
   "outputs": [
    {
     "name": "stdout",
     "output_type": "stream",
     "text": [
      "[4. 2.]\n",
      "[3.  2.5]\n",
      "[2.75  2.625]\n",
      "[2.6875  2.65625]\n",
      "[2.671875  2.6640625]\n",
      "[2.66796875 2.66601562]\n",
      "[2.66699219 2.66650391]\n",
      "[2.66674805 2.66662598]\n",
      "[2.66668701 2.66665649]\n",
      "[2.66667175 2.66666412]\n",
      "[2.66666794 2.66666603]\n",
      "[2.66666698 2.66666651]\n"
     ]
    }
   ],
   "source": [
    "x_12 = np.array([0.0, 0.0])\n",
    "for i in range(12):\n",
    "    #x_12[0] = 0.25 * (-3 * x_12[1] + 8)\n",
    "    #x_12[1] = 0.25 * (-3 * x_12[0] + 12)\n",
    "    #x_12[0] = 0.25 * (-3 * x_12[1] + 8)\n",
    "    x_12[0] = (b_12[0] - A_12[0, 1] * x_12[1]) / A_12[0, 0]\n",
    "    x_12[1] = (b_12[1] - A_12[1, 0] * x_12[0]) / A_12[1, 1]\n",
    "    \n",
    "    #x_12[0] = 1 / 3 * (-4 * x_12[1] + 12)\n",
    "    #x_12[1] = 1 / 3 * (-4 * x_12[0] + 8)\n",
    "    print(x_12)"
   ]
  },
  {
   "cell_type": "code",
   "execution_count": null,
   "id": "charming-haven",
   "metadata": {},
   "outputs": [],
   "source": []
  }
 ],
 "metadata": {
  "kernelspec": {
   "display_name": "Python 3",
   "language": "python",
   "name": "python3"
  },
  "language_info": {
   "codemirror_mode": {
    "name": "ipython",
    "version": 3
   },
   "file_extension": ".py",
   "mimetype": "text/x-python",
   "name": "python",
   "nbconvert_exporter": "python",
   "pygments_lexer": "ipython3",
   "version": "3.7.5"
  }
 },
 "nbformat": 4,
 "nbformat_minor": 5
}
