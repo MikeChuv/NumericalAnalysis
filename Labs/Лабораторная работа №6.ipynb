{
 "cells": [
  {
   "cell_type": "markdown",
   "id": "genuine-negotiation",
   "metadata": {},
   "source": [
    "# Лабораторная работа №6: Численное дифференцирование и решение задачи Коши\n",
    "*Чуворкин Михаил А-13а-19 Вариант 47*"
   ]
  },
  {
   "cell_type": "code",
   "execution_count": 1,
   "id": "retained-webmaster",
   "metadata": {},
   "outputs": [],
   "source": [
    "import numpy as np\n",
    "import matplotlib.pyplot as plt\n",
    "import time\n",
    "import sys\n",
    "from tqdm.notebook import trange, tqdm"
   ]
  },
  {
   "cell_type": "markdown",
   "id": "outside-intersection",
   "metadata": {},
   "source": [
    "### Задача 6.1. Исследовать поведение погрешностей при численном дифференцировании функции."
   ]
  },
  {
   "cell_type": "markdown",
   "id": "heavy-pickup",
   "metadata": {},
   "source": [
    "1. Взять функцию из задачи 5.2.: $f(x) = 2 x \\sin^2(3x)$, $\\left[a, b\\right] = \\left[-5, 0\\right]$ Выбрать фиксированную точку $c$ на отрезке $\\left[a,b\\right]$ и вычислить значения производных, указанных в индивидуальном варианте в точке $с$.\n",
    "2. Задать массив шагов $h_k = 10^{-k}, k = 1,...15$, и вычислить массивы приближенныx значений производных в точке $c$ по формуле **(1)** и по формуле из индивидуального варианта **(2)**. Вычислить также массивы значений погрешностей: $\\Delta 1_k = \\left| d1_k - f'(c) \\right|$\n",
    "3. По полученным таблицам результатов найти оптимальное значение шага дифференцирования для каждого метода. Результаты вычислений внести в первую часть таблицы.\n",
    "4. Проделать те же вычисления для производной более высокого порядка, указанной в индивидуальном варианте. Найти оптимальное значение шага дифференцирования, результаты внести во вторую часть таблицы.\n",
    "5. По полученным данным построить графики погрешностей.\n",
    "6. Вывести оценку погрешности указанной в индивидуальном варианте формулы.\n",
    "7. Оформить отчет по работе."
   ]
  },
  {
   "cell_type": "markdown",
   "id": "educational-concentration",
   "metadata": {},
   "source": [
    "$$\\left(1\\right) \\quad d1_k = \\frac{f(c+h_k) - f(c)}{h_k}$$\n",
    "$$\\left(2\\right) \\quad d1_k = \\frac{f(c) - f(c-h_k)}{h_k}$$\n",
    "$$\\left(7\\right) \\quad d^2_k = \\frac{2f(c) - 5f(c+h_k) + 4f(c+2h_k) - f(c+3h_k)}{h^2}$$"
   ]
  },
  {
   "cell_type": "code",
   "execution_count": 2,
   "id": "ruled-cleaning",
   "metadata": {},
   "outputs": [],
   "source": [
    "def f(x):\n",
    "    return 2 * x * np.sin(3 * x) ** 2"
   ]
  },
  {
   "cell_type": "code",
   "execution_count": 3,
   "id": "incorporated-northwest",
   "metadata": {},
   "outputs": [
    {
     "name": "stdout",
     "output_type": "stream",
     "text": [
      "[1.e-01 1.e-02 1.e-03 1.e-04 1.e-05 1.e-06 1.e-07 1.e-08 1.e-09 1.e-10\n",
      " 1.e-11 1.e-12 1.e-13 1.e-14 1.e-15]\n"
     ]
    }
   ],
   "source": [
    "a, b = -5, 0\n",
    "hs = np.array([10**(-i) for i in range(1, 16)])\n",
    "c = -2.1\n",
    "print(hs)"
   ]
  },
  {
   "cell_type": "code",
   "execution_count": 4,
   "id": "sixth-newton",
   "metadata": {},
   "outputs": [],
   "source": [
    "def rfd(f, c, h):\n",
    "    return (f(c + h) - f(c)) / h\n",
    "\n",
    "def lfd(f, c, h):\n",
    "    return (f(c) - f(c - h)) / h\n",
    "\n",
    "def df_exact(x):\n",
    "    return 6 * x * np.sin(6 * x) - np.cos(6 * x) + 1\n",
    "\n",
    "# osrd2\n",
    "def d2k(f, c, h):\n",
    "    return (2 * f(c) - 5 * f(c + h) + 4 * f(c + 2 * h) - f(c + 3 * h)) / h ** 2\n",
    "\n",
    "def d2f_exact(x):\n",
    "    return 12 * (np.sin(6 * x) + 3 * x * np.cos(6 * x)) "
   ]
  },
  {
   "cell_type": "code",
   "execution_count": 5,
   "id": "brutal-hometown",
   "metadata": {
    "scrolled": true
   },
   "outputs": [
    {
     "data": {
      "image/png": "[encoded data removed]",
      "text/plain": [
       "<Figure size 432x288 with 1 Axes>"
      ]
     },
     "metadata": {
      "needs_background": "light"
     },
     "output_type": "display_data"
    }
   ],
   "source": [
    "rfd_err = np.array([np.abs(rfd(f, c, h) - df_exact(c)) for h in hs])\n",
    "lfd_err = np.array([np.abs(lfd(f, c, h) - df_exact(c)) for h in hs])\n",
    "fig, ax = plt.subplots()\n",
    "ax.set_xlim(hs[0], hs[-1])\n",
    "ax.set_xscale('log')\n",
    "ax.set_yscale('log')\n",
    "ax.plot(hs, rfd_err, label=f\"$rfd error$\")\n",
    "ax.plot(hs, lfd_err, label=f\"$lfd error$\")\n",
    "ax.legend()\n",
    "ax.grid(True)\n",
    "plt.show()"
   ]
  },
  {
   "cell_type": "markdown",
   "id": "royal-arrangement",
   "metadata": {},
   "source": [
    "Оптимальный шаг - $h = 10^{-9}$ для первой формулы и $h = 10^{-10}$ для второй"
   ]
  },
  {
   "cell_type": "code",
   "execution_count": 6,
   "id": "different-asthma",
   "metadata": {},
   "outputs": [
    {
     "name": "stdout",
     "output_type": "stream",
     "text": [
      "Значение погрешности при шаге h = 1e-09 по первой формуле: 3.1223720275974642e-09\n",
      "Значение погрешности при шаге h = 1e-10 по второй формуле: 2.8753171843476366e-08\n",
      "Значение производной при шаге h = 1e-09 по первой формуле: 0.4242158063629681\n",
      "Значение производной при шаге h = 1e-10 по второй формуле: 0.42421584908053367\n",
      "Точное значение производной в точке с = -2.1:      f'(c) = 0.4242158094853401\n"
     ]
    }
   ],
   "source": [
    "r_h_best = np.argmin(rfd_err)\n",
    "l_h_best = np.argmin(lfd_err)\n",
    "print(f'Значение погрешности при шаге h = {hs[r_h_best]} по первой формуле: {rfd_err[r_h_best]}')\n",
    "print(f'Значение погрешности при шаге h = {hs[l_h_best]} по второй формуле: {rfd_err[l_h_best]}')\n",
    "print(f'Значение производной при шаге h = {hs[r_h_best]} по первой формуле: {rfd(f, c, hs[r_h_best])}')\n",
    "print(f'Значение производной при шаге h = {hs[l_h_best]} по второй формуле: {lfd(f, c, hs[l_h_best])}')\n",
    "print(f'Точное значение производной в точке с = {c}:      f\\'(c) = {df_exact(c)}')"
   ]
  },
  {
   "cell_type": "code",
   "execution_count": 7,
   "id": "effective-balloon",
   "metadata": {},
   "outputs": [
    {
     "name": "stdout",
     "output_type": "stream",
     "text": [
      "Значение производной с шагом h = 0.1 по первой формуле: -3.1110471208712562\n",
      "Значение производной с шагом h = 1e-15 по первой формуле: 0.5019856058607886\n",
      "Значение производной с шагом h = 0.1 по второй формуле: 4.258679227431206\n",
      "Значение производной с шагом h = 1e-15 по второй формуле: 0.25131806358213993\n"
     ]
    }
   ],
   "source": [
    "print(f'Значение производной с шагом h = {hs[0]} по первой формуле: {rfd(f, c, hs[0])}')\n",
    "print(f'Значение производной с шагом h = {hs[-1]} по первой формуле: {rfd(f, c, hs[-1])}')\n",
    "print(f'Значение производной с шагом h = {hs[0]} по второй формуле: {lfd(f, c, hs[0])}')\n",
    "print(f'Значение производной с шагом h = {hs[-1]} по второй формуле: {lfd(f, c, hs[-1])}')"
   ]
  },
  {
   "cell_type": "code",
   "execution_count": 8,
   "id": "rural-alberta",
   "metadata": {},
   "outputs": [
    {
     "name": "stdout",
     "output_type": "stream",
     "text": [
      "Значение погрешности при шаге h = 0.1 по первой формуле: 3.5352629303565966\n",
      "Значение погрешности при шаге h = 1e-15 по первой формуле: 0.07776979637544845\n",
      "Значение погрешности при шаге h = 0.1 по второй формуле: 3.834463417945866\n",
      "Значение погрешности при шаге h = 1e-15 по второй формуле: 0.17289774590320017\n"
     ]
    }
   ],
   "source": [
    "print(f'Значение погрешности при шаге h = {hs[0]} по первой формуле: {rfd_err[0]}')\n",
    "print(f'Значение погрешности при шаге h = {hs[-1]} по первой формуле: {rfd_err[-1]}')\n",
    "print(f'Значение погрешности при шаге h = {hs[0]} по второй формуле: {lfd_err[0]}')\n",
    "print(f'Значение погрешности при шаге h = {hs[-1]} по второй формуле: {lfd_err[-1]}')"
   ]
  },
  {
   "cell_type": "code",
   "execution_count": 9,
   "id": "satellite-tulsa",
   "metadata": {},
   "outputs": [
    {
     "data": {
      "image/png": "[encoded data removed]",
      "text/plain": [
       "<Figure size 432x288 with 1 Axes>"
      ]
     },
     "metadata": {
      "needs_background": "light"
     },
     "output_type": "display_data"
    }
   ],
   "source": [
    "d2k_err = np.array([np.abs(d2k(f, c, h) - d2f_exact(c)) for h in hs])\n",
    "fig, ax = plt.subplots()\n",
    "ax.set_xlim(hs[0], hs[-1])\n",
    "ax.set_xscale('log')\n",
    "ax.set_yscale('log')\n",
    "ax.plot(hs, d2k_err, label=f\"$d2k error$\")\n",
    "ax.legend()\n",
    "ax.grid(True)\n",
    "plt.show()"
   ]
  },
  {
   "cell_type": "code",
   "execution_count": 10,
   "id": "chubby-commission",
   "metadata": {},
   "outputs": [
    {
     "name": "stdout",
     "output_type": "stream",
     "text": [
      "Точное значение второй производной f''(c) = -75.96073123052963\n",
      "Значение второй производной при шаге h = 1e-05: -75.96073023190263\n",
      "Значение погрешности при шаге h = 1e-05: 9.986270015360788e-07\n",
      "Значение второй производной при шаге h = 0.1: -90.05899123571271\n",
      "Значение погрешности при шаге h = 0.1: 14.098260005183079\n",
      "Значение второй производной при шаге h = 1e-15: 126851654180804.02\n",
      "Значение погрешности при шаге h = 1e-15: 126851654180879.97\n"
     ]
    }
   ],
   "source": [
    "d2k_h_best = np.argmin(d2k_err)\n",
    "print(f'Точное значение второй производной f\\'\\'(c) = {d2f_exact(c)}')\n",
    "print(f'Значение второй производной при шаге h = {hs[d2k_h_best]}: {d2k(f, c, hs[d2k_h_best])}')\n",
    "print(f'Значение погрешности при шаге h = {hs[d2k_h_best]}: {d2k_err[d2k_h_best]}')\n",
    "print(f'Значение второй производной при шаге h = {hs[0]}: {d2k(f, c, hs[0])}')\n",
    "print(f'Значение погрешности при шаге h = {hs[0]}: {d2k_err[0]}')\n",
    "print(f'Значение второй производной при шаге h = {hs[-1]}: {d2k(f, c, hs[-1])}')\n",
    "print(f'Значение погрешности при шаге h = {hs[-1]}: {d2k_err[-1]}')"
   ]
  },
  {
   "cell_type": "markdown",
   "id": "fatty-horror",
   "metadata": {},
   "source": [
    "**Вывод оценки погрешности формулы (2)**\n",
    "\n",
    "$f(x \\pm h) = f(x) \\pm h f'(x) + \\frac{h^2}{2!}f''(x) \\pm \\frac{h^3}{3!}f'''(x)...$\n",
    "\n",
    "$r_-(x) = f'(x) - \\frac{f(x) - f(x-h)}{h} = $\n",
    "$ f'(x) - \\frac{f(x) - (f(x) - h f'(x) + \\frac{h^2}{2!}f''(\\zeta))}{h} = $\n",
    "\n",
    "$ = f'(x) - \\frac{h f'(x) - \\frac{h^2}{2!}f''(\\zeta)}{h} = \\frac{h}{2}f''(\\zeta)$\n",
    "\n",
    "$\\left| r_-(x) \\right| \\leq \\frac{1}{2}M_2 h \\qquad \\text{где} \\quad M_2 = \\max_{\\left[x - h, x\\right]} \\left| f''(x) \\right|$"
   ]
  },
  {
   "cell_type": "markdown",
   "id": "broke-montreal",
   "metadata": {},
   "source": [
    "<style type=\"text/css\">\n",
    ".tg  {border-collapse:collapse;border-color:#ccc;border-spacing:0;}\n",
    ".tg td{background-color:#fff;border-color:#ccc;border-style:solid;border-width:1px;color:#333;\n",
    "  font-family:Arial, sans-serif;font-size:14px;overflow:hidden;padding:10px 5px;word-break:normal;}\n",
    ".tg th{background-color:#f0f0f0;border-color:#ccc;border-style:solid;border-width:1px;color:#333;\n",
    "  font-family:Arial, sans-serif;font-size:14px;font-weight:normal;overflow:hidden;padding:10px 5px;word-break:normal;}\n",
    ".tg .tg-c3ow{border-color:inherit;text-align:center;vertical-align:top}\n",
    ".tg .tg-0pky{border-color:inherit;text-align:left;vertical-align:top}\n",
    "</style>\n",
    "<table class=\"tg\">\n",
    "<thead>\n",
    "  <tr>\n",
    "    <th class=\"tg-0pky\" colspan=\"4\">Чуворкин Михаил Юрьевич Группа А-13а-19 Вариант 47<br><br>Функция: $f(x) = 2 x \\sin^2(3x); \\qquad f'(x) = 6x sin(6x) - cos(6x) + 1 \\qquad f''(x) = 12 (sin(6 x) + 3 x cos(6 x))$ <br><br>Значения производных: $f'(c) = 0.424216  \\qquad f''(c) = -75.9607$<br><br>$$\\left(1\\right) \\quad d1_k = \\frac{f(c+h_k) - f(c)}{h_k}$$<br>$$\\left(2\\right) \\quad d1_k = \\frac{f(c) - f(c-h_k)}{h_k}$$<br>$$\\left(7\\right) \\quad d^2_k = \\frac{2f(c) - 5f(c+h_k) + 4f(c+2h_k) - f(c+3h_k)}{h^2}$$<br></th>\n",
    "  </tr>\n",
    "</thead>\n",
    "<tbody>\n",
    "  <tr>\n",
    "    <td class=\"tg-c3ow\">$f'(c)$</td>\n",
    "    <td class=\"tg-c3ow\">Первый результат при шаге $h = 10^{-1}$</td>\n",
    "    <td class=\"tg-c3ow\">Наилучший результат при шаге <br>$h = 10^{-9} $ для формулы (1)<br>$h = 10^{-10} $ для формулы (2)<br></td>\n",
    "    <td class=\"tg-c3ow\">Последний результат при шаге $h = 10^{-15}$<br></td>\n",
    "  </tr>\n",
    "  <tr>\n",
    "    <td class=\"tg-0pky\">Формула (1)</td>\n",
    "    <td class=\"tg-0pky\">$d1_1 = -3.11$<br><br>$\\Delta 1_1 = 3.53$<br></td>\n",
    "    <td class=\"tg-0pky\">$d1_9 = 0.424215806$<br><br>$\\Delta 1_9 = 3.12 \\times 10^{-9}$</td>\n",
    "    <td class=\"tg-0pky\">$d1_{15} = 0.5019$<br><br>$\\Delta 1_{15} = 0.0777$</td>\n",
    "  </tr>\n",
    "  <tr>\n",
    "    <td class=\"tg-0pky\">Формула (2)</td>\n",
    "    <td class=\"tg-0pky\">$d1_1 = 4.25$<br><br>$\\Delta 1_1 = 3.83$</td>\n",
    "    <td class=\"tg-0pky\">$d1_{10} = 0.424215849$<br><br>$\\Delta 1_{10} = 2.87 \\times 10^{-8}$</td>\n",
    "    <td class=\"tg-0pky\">$d1_{15} = 0.2513$<br><br>$\\Delta 1_{15} = 0.1728$</td>\n",
    "  </tr>\n",
    "  <tr>\n",
    "    <td class=\"tg-c3ow\">$f''(c)$<br></td>\n",
    "    <td class=\"tg-c3ow\">Первый результат при шаге $h = 10^{-1}$</td>\n",
    "    <td class=\"tg-c3ow\">Наилучший результат при шаге $h = 10^{-5}$</td>\n",
    "    <td class=\"tg-c3ow\">Последний результат при шаге $h = 10^{-15}$</td>\n",
    "  </tr>\n",
    "  <tr>\n",
    "    <td class=\"tg-0pky\">Формула (7)<br></td>\n",
    "    <td class=\"tg-0pky\">$d^2_1 = -90.0589 $<br><br>$\\Delta 2_1 = 14.0982$</td>\n",
    "    <td class=\"tg-0pky\">$d^2_5 =-75.9607302 $<br><br>$\\Delta 2_5 = 9.98 \\times 10^{-7}$<br></td>\n",
    "    <td class=\"tg-0pky\">$d^2_{15} = 126851654180804.02$<br><br>$\\Delta 2_{15} = 126851654180879.97$</td>\n",
    "  </tr>\n",
    "</tbody>\n",
    "</table>"
   ]
  },
  {
   "cell_type": "markdown",
   "id": "naughty-execution",
   "metadata": {},
   "source": [
    "### Задача 6.2. Найти приближенное решение задачи Коши для обыкновенного дифференциального уравнения (ОДУ) 1 порядка с точностью $\\varepsilon = 10^{-6}$."
   ]
  },
  {
   "cell_type": "markdown",
   "id": "subsequent-provider",
   "metadata": {},
   "source": [
    "1. Найти аналитическое решение задачи 24 из РЗ.\n",
    "2. Составить программу вычисления решения методом Эйлера с заданной точностью, используя правило Рунге. Найти решение задачи с точностью $\\varepsilon = 10^{-6}$, число точек $N$ и шаг, при котором точность достигается. Построить график решения.\n",
    "3. Составить программу вычисления решения с заданной точностью методом индивидуального варианта (экстраполяционный метод Адамса второго порядка). Найти решение задачи с заданной точностью, число точек $N$ и шаг, при котором точность достигается. Построить график решения задачи.\n",
    "4. Сравнить полученные результаты.\n",
    "5. Оформить отчет по задаче"
   ]
  },
  {
   "cell_type": "markdown",
   "id": "twelve-cemetery",
   "metadata": {},
   "source": [
    "**Задание 24**: численно решить задачу Коши для обыкновенного дифференциального уравнения 1-го порядка\n",
    "$$ \\begin{cases} y' = f(t, y) \\\\\n",
    "                 y(t_0) = y_0\n",
    "   \\end{cases} $$\n",
    "на отрезке $\\left[ t_0, t_0 + 0.8 \\right]$ с шагом $h = 0.2$ \n",
    "\n",
    "*Вариант 22:* $f(t, y) = y cos(t) + e^{sin (t)}, \\qquad t_0 = 0, \\qquad y_0 = 1$ \n",
    "$$ \\begin{cases} y' = y cos(t) + e^{sin (t)} \\\\\n",
    "                 y(0) = 1\n",
    "   \\end{cases} $$"
   ]
  },
  {
   "cell_type": "markdown",
   "id": "olive-politics",
   "metadata": {},
   "source": [
    "**Правило Рунге**\n",
    "$$y(t_i) - y_i^{h/2} \\approx \\varepsilon_i^h, \\qquad \\varepsilon_i^h = \\frac{y_i^{h/2}-y_i^h}{2^p -1}$$\n",
    "где $p$ - порядок метода"
   ]
  },
  {
   "cell_type": "markdown",
   "id": "tracked-diabetes",
   "metadata": {},
   "source": [
    "**Аналитическое решение:** $y = e^{sin(t)} + t e^{sin(t)}$"
   ]
  },
  {
   "cell_type": "code",
   "execution_count": 11,
   "id": "directed-ethiopia",
   "metadata": {},
   "outputs": [],
   "source": [
    "t0 = 0\n",
    "tend = t0 + 0.8\n",
    "y0 = 1\n",
    "eps = 1e-6"
   ]
  },
  {
   "cell_type": "code",
   "execution_count": 12,
   "id": "supported-people",
   "metadata": {},
   "outputs": [],
   "source": [
    "def fty(t, y):\n",
    "    return y * np.cos(t) + np.exp(np.sin(t))\n",
    "\n",
    "def y_exact(t):\n",
    "    return np.exp(np.sin(t)) + t * np.exp(np.sin(t))"
   ]
  },
  {
   "cell_type": "code",
   "execution_count": 13,
   "id": "minute-workshop",
   "metadata": {},
   "outputs": [],
   "source": [
    "def Euler_with_step(fty, t0, tend, y0, h):\n",
    "    t = np.arange(t0, tend + h/2, h)\n",
    "    y = np.zeros(len(t))\n",
    "    y[0] = y0\n",
    "    for i in trange(len(t) - 1, desc=f'h={h}', leave=False):\n",
    "        y[i + 1] = y[i] + h*fty(t[i], y[i])\n",
    "    return y\n",
    "\n",
    "def Euler(fty, eps, t0, tend, y0):\n",
    "    h = 0.1\n",
    "    yh = Euler_with_step(fty, t0, tend, y0, h)\n",
    "    h /= 2\n",
    "    yh2 = Euler_with_step(fty, t0, tend, y0, h)\n",
    "    while np.max(yh2[::2] - yh) > eps:\n",
    "        h /= 2\n",
    "        yh = yh2\n",
    "        yh2 = Euler_with_step(fty, t0, tend, y0, h)\n",
    "    return yh2, h"
   ]
  },
  {
   "cell_type": "code",
   "execution_count": 14,
   "id": "supported-riverside",
   "metadata": {},
   "outputs": [
    {
     "data": {
      "application/vnd.jupyter.widget-view+json": {
       "model_id": "",
       "version_major": 2,
       "version_minor": 0
      },
      "text/plain": [
       "h=0.1:   0%|          | 0/8 [00:00<?, ?it/s]"
      ]
     },
     "metadata": {},
     "output_type": "display_data"
    },
    {
     "data": {
      "application/vnd.jupyter.widget-view+json": {
       "model_id": "",
       "version_major": 2,
       "version_minor": 0
      },
      "text/plain": [
       "h=0.05:   0%|          | 0/16 [00:00<?, ?it/s]"
      ]
     },
     "metadata": {},
     "output_type": "display_data"
    },
    {
     "data": {
      "application/vnd.jupyter.widget-view+json": {
       "model_id": "",
       "version_major": 2,
       "version_minor": 0
      },
      "text/plain": [
       "h=0.025:   0%|          | 0/32 [00:00<?, ?it/s]"
      ]
     },
     "metadata": {},
     "output_type": "display_data"
    },
    {
     "data": {
      "application/vnd.jupyter.widget-view+json": {
       "model_id": "",
       "version_major": 2,
       "version_minor": 0
      },
      "text/plain": [
       "h=0.0125:   0%|          | 0/64 [00:00<?, ?it/s]"
      ]
     },
     "metadata": {},
     "output_type": "display_data"
    },
    {
     "data": {
      "application/vnd.jupyter.widget-view+json": {
       "model_id": "",
       "version_major": 2,
       "version_minor": 0
      },
      "text/plain": [
       "h=0.00625:   0%|          | 0/128 [00:00<?, ?it/s]"
      ]
     },
     "metadata": {},
     "output_type": "display_data"
    },
    {
     "data": {
      "application/vnd.jupyter.widget-view+json": {
       "model_id": "",
       "version_major": 2,
       "version_minor": 0
      },
      "text/plain": [
       "h=0.003125:   0%|          | 0/256 [00:00<?, ?it/s]"
      ]
     },
     "metadata": {},
     "output_type": "display_data"
    },
    {
     "data": {
      "application/vnd.jupyter.widget-view+json": {
       "model_id": "",
       "version_major": 2,
       "version_minor": 0
      },
      "text/plain": [
       "h=0.0015625:   0%|          | 0/512 [00:00<?, ?it/s]"
      ]
     },
     "metadata": {},
     "output_type": "display_data"
    },
    {
     "data": {
      "application/vnd.jupyter.widget-view+json": {
       "model_id": "",
       "version_major": 2,
       "version_minor": 0
      },
      "text/plain": [
       "h=0.00078125:   0%|          | 0/1024 [00:00<?, ?it/s]"
      ]
     },
     "metadata": {},
     "output_type": "display_data"
    },
    {
     "data": {
      "application/vnd.jupyter.widget-view+json": {
       "model_id": "",
       "version_major": 2,
       "version_minor": 0
      },
      "text/plain": [
       "h=0.000390625:   0%|          | 0/2048 [00:00<?, ?it/s]"
      ]
     },
     "metadata": {},
     "output_type": "display_data"
    },
    {
     "data": {
      "application/vnd.jupyter.widget-view+json": {
       "model_id": "",
       "version_major": 2,
       "version_minor": 0
      },
      "text/plain": [
       "h=0.0001953125:   0%|          | 0/4096 [00:00<?, ?it/s]"
      ]
     },
     "metadata": {},
     "output_type": "display_data"
    },
    {
     "data": {
      "application/vnd.jupyter.widget-view+json": {
       "model_id": "",
       "version_major": 2,
       "version_minor": 0
      },
      "text/plain": [
       "h=9.765625e-05:   0%|          | 0/8192 [00:00<?, ?it/s]"
      ]
     },
     "metadata": {},
     "output_type": "display_data"
    },
    {
     "data": {
      "application/vnd.jupyter.widget-view+json": {
       "model_id": "",
       "version_major": 2,
       "version_minor": 0
      },
      "text/plain": [
       "h=4.8828125e-05:   0%|          | 0/16384 [00:00<?, ?it/s]"
      ]
     },
     "metadata": {},
     "output_type": "display_data"
    },
    {
     "data": {
      "application/vnd.jupyter.widget-view+json": {
       "model_id": "",
       "version_major": 2,
       "version_minor": 0
      },
      "text/plain": [
       "h=2.44140625e-05:   0%|          | 0/32768 [00:00<?, ?it/s]"
      ]
     },
     "metadata": {},
     "output_type": "display_data"
    },
    {
     "data": {
      "application/vnd.jupyter.widget-view+json": {
       "model_id": "",
       "version_major": 2,
       "version_minor": 0
      },
      "text/plain": [
       "h=1.220703125e-05:   0%|          | 0/65536 [00:00<?, ?it/s]"
      ]
     },
     "metadata": {},
     "output_type": "display_data"
    },
    {
     "data": {
      "application/vnd.jupyter.widget-view+json": {
       "model_id": "",
       "version_major": 2,
       "version_minor": 0
      },
      "text/plain": [
       "h=6.103515625e-06:   0%|          | 0/131072 [00:00<?, ?it/s]"
      ]
     },
     "metadata": {},
     "output_type": "display_data"
    },
    {
     "data": {
      "application/vnd.jupyter.widget-view+json": {
       "model_id": "",
       "version_major": 2,
       "version_minor": 0
      },
      "text/plain": [
       "h=3.0517578125e-06:   0%|          | 0/262144 [00:00<?, ?it/s]"
      ]
     },
     "metadata": {},
     "output_type": "display_data"
    },
    {
     "data": {
      "application/vnd.jupyter.widget-view+json": {
       "model_id": "",
       "version_major": 2,
       "version_minor": 0
      },
      "text/plain": [
       "h=1.52587890625e-06:   0%|          | 0/524288 [00:00<?, ?it/s]"
      ]
     },
     "metadata": {},
     "output_type": "display_data"
    },
    {
     "data": {
      "application/vnd.jupyter.widget-view+json": {
       "model_id": "",
       "version_major": 2,
       "version_minor": 0
      },
      "text/plain": [
       "h=7.62939453125e-07:   0%|          | 0/1048576 [00:00<?, ?it/s]"
      ]
     },
     "metadata": {},
     "output_type": "display_data"
    },
    {
     "data": {
      "application/vnd.jupyter.widget-view+json": {
       "model_id": "",
       "version_major": 2,
       "version_minor": 0
      },
      "text/plain": [
       "h=3.814697265625e-07:   0%|          | 0/2097152 [00:00<?, ?it/s]"
      ]
     },
     "metadata": {},
     "output_type": "display_data"
    }
   ],
   "source": [
    "y, h = Euler(fty, eps, t0, tend, y0)\n",
    "t = np.arange(t0, tend + h, h)\n",
    "yex = y_exact(t)"
   ]
  },
  {
   "cell_type": "code",
   "execution_count": 15,
   "id": "likely-pierce",
   "metadata": {},
   "outputs": [
    {
     "data": {
      "image/png": "[encoded data removed]",
      "text/plain": [
       "<Figure size 1152x288 with 1 Axes>"
      ]
     },
     "metadata": {
      "needs_background": "light"
     },
     "output_type": "display_data"
    }
   ],
   "source": [
    "# Чтобы линии на графике не сливались в одну, обозначим приближенное решение точками\n",
    "fig, ax = plt.subplots(figsize = (16, 4))\n",
    "sl = 10 ** int(-np.log10(eps) - 1)\n",
    "ax.plot(t[::sl], y[::sl], 'o--', label='Approx')\n",
    "ax.plot(t, yex, label='Exact')\n",
    "ax.set_xlabel('t')\n",
    "ax.set_ylabel('f(t)')\n",
    "ax.grid()\n",
    "ax.legend(loc='lower right')\n",
    "plt.show()"
   ]
  },
  {
   "cell_type": "code",
   "execution_count": 16,
   "id": "through-cardiff",
   "metadata": {},
   "outputs": [
    {
     "name": "stdout",
     "output_type": "stream",
     "text": [
      "Число точек N = 2097153\n",
      "Шаг h = 3.814697265625e-07\n"
     ]
    }
   ],
   "source": [
    "print(f'Число точек N = {len(t)}')\n",
    "print(f'Шаг h = {h}')"
   ]
  },
  {
   "cell_type": "code",
   "execution_count": 17,
   "id": "valuable-being",
   "metadata": {},
   "outputs": [
    {
     "data": {
      "image/png": "[encoded data removed]",
      "text/plain": [
       "<Figure size 1152x288 with 1 Axes>"
      ]
     },
     "metadata": {
      "needs_background": "light"
     },
     "output_type": "display_data"
    }
   ],
   "source": [
    "fig, ax = plt.subplots(figsize=(16, 4))\n",
    "ax.set_xscale('log')\n",
    "ax.set_yscale('log')\n",
    "ax.plot(t, np.abs(yex - y), label=f\"$solution error$\")\n",
    "ax.legend()\n",
    "ax.grid(True)\n",
    "plt.show()"
   ]
  },
  {
   "cell_type": "code",
   "execution_count": 18,
   "id": "accessory-buying",
   "metadata": {},
   "outputs": [],
   "source": [
    "def Adams_with_step(fty, t0, tend, y0, h):\n",
    "    t = np.arange(t0, tend + h/2, h)\n",
    "    y = np.zeros(len(t))\n",
    "    y[0] = y0\n",
    "    y[1] = y[0] + h*fty(t[0], y[0])\n",
    "    for i in trange(len(t) - 2, desc=f'h={h}', leave=False):\n",
    "        y[i + 2] = y[i+1] + (h / 2) * (3 * fty(t[i+1], y[i+1]) - fty(t[i], y[i]))\n",
    "    return y\n",
    "    \n",
    "def Adams(fty, eps, t0, tend, y0):\n",
    "    h = 0.1\n",
    "    yh = Adams_with_step(fty, t0, tend, y0, h)\n",
    "    h /= 2\n",
    "    yh2 = Adams_with_step(fty, t0, tend, y0, h)\n",
    "    while np.max(  np.abs(yh2[::2] - yh) / 3) > eps:\n",
    "        h /= 2\n",
    "        yh = yh2\n",
    "        yh2 = Adams_with_step(fty, t0, tend, y0, h)\n",
    "    return yh2, h"
   ]
  },
  {
   "cell_type": "code",
   "execution_count": 19,
   "id": "identified-benjamin",
   "metadata": {},
   "outputs": [
    {
     "data": {
      "application/vnd.jupyter.widget-view+json": {
       "model_id": "",
       "version_major": 2,
       "version_minor": 0
      },
      "text/plain": [
       "h=0.1:   0%|          | 0/7 [00:00<?, ?it/s]"
      ]
     },
     "metadata": {},
     "output_type": "display_data"
    },
    {
     "data": {
      "application/vnd.jupyter.widget-view+json": {
       "model_id": "",
       "version_major": 2,
       "version_minor": 0
      },
      "text/plain": [
       "h=0.05:   0%|          | 0/15 [00:00<?, ?it/s]"
      ]
     },
     "metadata": {},
     "output_type": "display_data"
    },
    {
     "data": {
      "application/vnd.jupyter.widget-view+json": {
       "model_id": "",
       "version_major": 2,
       "version_minor": 0
      },
      "text/plain": [
       "h=0.025:   0%|          | 0/31 [00:00<?, ?it/s]"
      ]
     },
     "metadata": {},
     "output_type": "display_data"
    },
    {
     "data": {
      "application/vnd.jupyter.widget-view+json": {
       "model_id": "",
       "version_major": 2,
       "version_minor": 0
      },
      "text/plain": [
       "h=0.0125:   0%|          | 0/63 [00:00<?, ?it/s]"
      ]
     },
     "metadata": {},
     "output_type": "display_data"
    },
    {
     "data": {
      "application/vnd.jupyter.widget-view+json": {
       "model_id": "",
       "version_major": 2,
       "version_minor": 0
      },
      "text/plain": [
       "h=0.00625:   0%|          | 0/127 [00:00<?, ?it/s]"
      ]
     },
     "metadata": {},
     "output_type": "display_data"
    },
    {
     "data": {
      "application/vnd.jupyter.widget-view+json": {
       "model_id": "",
       "version_major": 2,
       "version_minor": 0
      },
      "text/plain": [
       "h=0.003125:   0%|          | 0/255 [00:00<?, ?it/s]"
      ]
     },
     "metadata": {},
     "output_type": "display_data"
    },
    {
     "data": {
      "application/vnd.jupyter.widget-view+json": {
       "model_id": "",
       "version_major": 2,
       "version_minor": 0
      },
      "text/plain": [
       "h=0.0015625:   0%|          | 0/511 [00:00<?, ?it/s]"
      ]
     },
     "metadata": {},
     "output_type": "display_data"
    },
    {
     "data": {
      "application/vnd.jupyter.widget-view+json": {
       "model_id": "",
       "version_major": 2,
       "version_minor": 0
      },
      "text/plain": [
       "h=0.00078125:   0%|          | 0/1023 [00:00<?, ?it/s]"
      ]
     },
     "metadata": {},
     "output_type": "display_data"
    },
    {
     "data": {
      "application/vnd.jupyter.widget-view+json": {
       "model_id": "",
       "version_major": 2,
       "version_minor": 0
      },
      "text/plain": [
       "h=0.000390625:   0%|          | 0/2047 [00:00<?, ?it/s]"
      ]
     },
     "metadata": {},
     "output_type": "display_data"
    }
   ],
   "source": [
    "y, h = Adams(fty, eps, t0, tend, y0)\n",
    "t = np.arange(t0, tend + h, h)\n",
    "yex = y_exact(t)"
   ]
  },
  {
   "cell_type": "code",
   "execution_count": 20,
   "id": "welcome-craft",
   "metadata": {},
   "outputs": [
    {
     "data": {
      "image/png": "[encoded data removed]",
      "text/plain": [
       "<Figure size 1152x288 with 1 Axes>"
      ]
     },
     "metadata": {
      "needs_background": "light"
     },
     "output_type": "display_data"
    }
   ],
   "source": [
    "fig, ax = plt.subplots(figsize = (16, 4))\n",
    "ax.plot(t[::30], y[::30], 'o--', label='Approx')\n",
    "ax.plot(t, yex, label='Exact')\n",
    "ax.set_xlabel('t')\n",
    "ax.set_ylabel('f(t)')\n",
    "ax.grid()\n",
    "ax.legend(loc='lower right')\n",
    "plt.show()"
   ]
  },
  {
   "cell_type": "code",
   "execution_count": 21,
   "id": "tracked-administrator",
   "metadata": {},
   "outputs": [
    {
     "name": "stdout",
     "output_type": "stream",
     "text": [
      "Число точек N = 2049\n",
      "Шаг h = 0.000390625\n"
     ]
    }
   ],
   "source": [
    "print(f'Число точек N = {len(t)}')\n",
    "print(f'Шаг h = {h}')"
   ]
  },
  {
   "cell_type": "code",
   "execution_count": 22,
   "id": "respective-habitat",
   "metadata": {},
   "outputs": [
    {
     "data": {
      "image/png": "[encoded data removed]",
      "text/plain": [
       "<Figure size 1152x288 with 1 Axes>"
      ]
     },
     "metadata": {
      "needs_background": "light"
     },
     "output_type": "display_data"
    }
   ],
   "source": [
    "fig, ax = plt.subplots(figsize=(16, 4))\n",
    "ax.set_xscale('log')\n",
    "ax.set_yscale('log')\n",
    "ax.plot(t, np.abs(yex - y), label=f\"$solution error$\")\n",
    "ax.legend()\n",
    "ax.grid(True)\n",
    "plt.show()"
   ]
  },
  {
   "cell_type": "markdown",
   "id": "corporate-palestinian",
   "metadata": {},
   "source": [
    "<style type=\"text/css\">\n",
    ".tg  {border-collapse:collapse;border-spacing:0;}\n",
    ".tg td{border-color:black;border-style:solid;border-width:1px;font-family:Arial, sans-serif;font-size:14px;\n",
    "  overflow:hidden;padding:10px 5px;word-break:normal;}\n",
    ".tg th{border-color:black;border-style:solid;border-width:1px;font-family:Arial, sans-serif;font-size:14px;\n",
    "  font-weight:normal;overflow:hidden;padding:10px 5px;word-break:normal;}\n",
    ".tg .tg-baqh{text-align:center;vertical-align:top}\n",
    ".tg .tg-0lax{text-align:left;vertical-align:top}\n",
    "</style>\n",
    "<table class=\"tg\">\n",
    "<thead>\n",
    "  <tr>\n",
    "    <th class=\"tg-0lax\">Точность: $\\varepsilon = 10^{-6}$<br></th>\n",
    "    <th class=\"tg-baqh\">Количество точек, $N$</th>\n",
    "    <th class=\"tg-baqh\">Величина шага, $h$<br></th>\n",
    "  </tr>\n",
    "</thead>\n",
    "<tbody>\n",
    "  <tr>\n",
    "    <td class=\"tg-0lax\">Метод Эйлера<br></td>\n",
    "    <td class=\"tg-baqh\">$2097153$</td>\n",
    "    <td class=\"tg-baqh\">$3.814 \\times 10^{-7}$</td>\n",
    "  </tr>\n",
    "  <tr>\n",
    "    <td class=\"tg-0lax\">Экстраполяционный метод Адамса 2 порядка<br></td>\n",
    "    <td class=\"tg-baqh\">$2049$</td>\n",
    "    <td class=\"tg-baqh\">$0.000390625$</td>\n",
    "  </tr>\n",
    "</tbody>\n",
    "</table>"
   ]
  }
 ],
 "metadata": {
  "kernelspec": {
   "display_name": "Python 3",
   "language": "python",
   "name": "python3"
  },
  "language_info": {
   "codemirror_mode": {
    "name": "ipython",
    "version": 3
   },
   "file_extension": ".py",
   "mimetype": "text/x-python",
   "name": "python",
   "nbconvert_exporter": "python",
   "pygments_lexer": "ipython3",
   "version": "3.7.6"
  }
 },
 "nbformat": 4,
 "nbformat_minor": 5
}
