{
 "cells": [
  {
   "cell_type": "markdown",
   "id": "widespread-blake",
   "metadata": {},
   "source": [
    "# Лабораторная работа №5: Численное интегрирование\n",
    "*Чуворкин Михаил А-13а-19 Вариант 47*"
   ]
  },
  {
   "cell_type": "code",
   "execution_count": 1,
   "id": "colored-catalog",
   "metadata": {},
   "outputs": [],
   "source": [
    "import numpy as np\n",
    "import matplotlib.pyplot as plt\n",
    "import time\n",
    "import math\n",
    "import scipy.integrate as integrate"
   ]
  },
  {
   "cell_type": "markdown",
   "id": "derived-action",
   "metadata": {},
   "source": [
    "## Задача 5.1.\n",
    "Вычислить значение интеграла $I = \\int_1^3 P_m (x) dx$, где $P_m(x) = \\sum_{i=0}^m c_i x^i$, с помощью квадратурных формул левых прямоугольников, Гаусса и по формуле индивидуального варианта (формула Милна)."
   ]
  },
  {
   "cell_type": "markdown",
   "id": "independent-gardening",
   "metadata": {},
   "source": [
    "#### ПОРЯДОК РЕШЕНИЯ ЗАДАЧИ\n",
    "1. Вычислить аналитически значение интеграла $I$.\n",
    "2. Используя выражение для остаточного члена интегрирования, оценить шаг интегрирования $h$, при котором величина погрешности квадратурной формулы будет меньше $\\varepsilon$. Вычислить число отрезков разбиения $n$.\n",
    "3. Вычислить значение интеграла $I^h$ по составной квадратурной формуле левых прямоугольников с найденным шагом $h$. Найти величину погрешности $R^h = \\left| I - I^h \\right|$.\n",
    "4. Проделать те же действия (п. 2 - 3) для вычисления интеграла $I$ по квадратурной формуле из индивидуального варианта.\n",
    "5. Основываясь на заданной степени многочлена $m$, выбрать число узлов для квадратуры Гаусса, обеспечивающее вычисление интеграла без погрешности. Вычислить интеграл $I^G$.\n",
    "6. Результаты внести в Таблицу 5.1"
   ]
  },
  {
   "cell_type": "markdown",
   "id": "mysterious-burke",
   "metadata": {},
   "source": [
    "$P_m(x) = 5.7 x^5 + 0.5 x^4 + 0.4 x^3 - 2.1 x - 2.5$"
   ]
  },
  {
   "cell_type": "code",
   "execution_count": 2,
   "id": "widespread-width",
   "metadata": {},
   "outputs": [],
   "source": [
    "def Pm(x):\n",
    "    return 5.7 * x**5 + 0.5 * x**4 + 0.4 * x**3 - 2.1 * x - 2.5"
   ]
  },
  {
   "cell_type": "code",
   "execution_count": 3,
   "id": "headed-huntington",
   "metadata": {},
   "outputs": [
    {
     "data": {
      "image/png": "[encoded data removed]",
      "text/plain": [
       "<Figure size 432x288 with 1 Axes>"
      ]
     },
     "metadata": {
      "needs_background": "light"
     },
     "output_type": "display_data"
    }
   ],
   "source": [
    "a, b = 1, 3\n",
    "x_data = np.linspace(a, b, 1000)\n",
    "plt.plot(x_data, Pm(x_data), label=f\"$P_m(x)$\")\n",
    "plt.fill_between(x=x_data, y1=Pm(x_data), y2=0, alpha=0.5, linewidth=2)\n",
    "plt.legend()\n",
    "plt.grid()"
   ]
  },
  {
   "cell_type": "markdown",
   "id": "together-ideal",
   "metadata": {},
   "source": [
    "Вычислим значение интеграла аналитически:\n",
    "$$\\int_1^3 (5.7 x^5 + 0.5 x^4 + 0.4 x^3 - 2.1 x - 2.5) dx = (0.95 x^6 + 0.1 x^5 + 0.1 x^4 - \\frac{21}{20} x^2 - 2.5 x )\\big|_1^3 = 710.4$$"
   ]
  },
  {
   "cell_type": "markdown",
   "id": "desperate-laugh",
   "metadata": {},
   "source": [
    "**Метод левых прямоугольников**\n",
    "$$S = h \\sum_{i=0}^{N-1}f(x_i)$$\n",
    "Значение остаточного члена для формулы левых прямоугольников:\n",
    "$$R = \\frac{M_1(b-a)}{2}h = M_1 h \\qquad \\text{где} \\quad M_1 = \\max_{x \\in \\left[a, b\\right]}\\left| f'(x)\\right|$$\n",
    "\n",
    "$$M_1 = M_1 = \\max_{x \\in \\left[a, b\\right]}\\left|28.5 x^4 + 2 x^3 + 1.2 x^2 - 2.1\\right| = 2371.2$$\n",
    "\n",
    "Получаем: $$R = M_1 h < \\varepsilon \\quad \\Rightarrow \\quad h < \\frac{\\varepsilon}{2371.2}$$"
   ]
  },
  {
   "cell_type": "code",
   "execution_count": 4,
   "id": "isolated-administrator",
   "metadata": {},
   "outputs": [
    {
     "name": "stdout",
     "output_type": "stream",
     "text": [
      "M1 =  2371.2000000000003\n",
      "h =  2.1086369770580296e-05\n",
      "94849\n"
     ]
    }
   ],
   "source": [
    "I = 710.4\n",
    "\n",
    "M1 = max(abs(28.5 * x_data ** 4 + 2 * x_data ** 3 + 1.2 * x_data ** 2 - 2.1))\n",
    "eps = 0.05\n",
    "h = eps / M1\n",
    "print(\"M1 = \", M1)\n",
    "print(\"h = \", h)\n",
    "print(int((b - a) / h) + 1)"
   ]
  },
  {
   "cell_type": "code",
   "execution_count": 5,
   "id": "related-brighton",
   "metadata": {},
   "outputs": [],
   "source": [
    "def I_left_rect(a, b, f, h):\n",
    "    x_data = np.linspace(a, b, round((b - a) / h) + 1)\n",
    "    return h * np.sum(f(x_data[:-1]))"
   ]
  },
  {
   "cell_type": "code",
   "execution_count": 6,
   "id": "valuable-manor",
   "metadata": {},
   "outputs": [
    {
     "name": "stdout",
     "output_type": "stream",
     "text": [
      "Значение интеграла по формуле левых прямоугольников:  710.3849697223905\n",
      "Значение погрешности:  0.01503027760952591\n",
      "Время вычисления:  0.020923614501953125\n",
      "Значение погрешности меньше эпсилон:  да\n"
     ]
    }
   ],
   "source": [
    "start_time = time.time()\n",
    "I_lrect = I_left_rect(a, b, Pm, h)\n",
    "stop_time = time.time()\n",
    "R_h = abs(I - I_lrect)\n",
    "print(\"Значение интеграла по формуле левых прямоугольников: \", I_lrect)\n",
    "print(\"Значение погрешности: \", R_h)\n",
    "print(\"Время вычисления: \", stop_time - start_time)\n",
    "print(\"Значение погрешности меньше эпсилон: \", \"да\" if R_h < eps else \"нет\")"
   ]
  },
  {
   "cell_type": "markdown",
   "id": "utility-modification",
   "metadata": {},
   "source": [
    "**Формула Милна:**\n",
    "$$S = \\frac{h}{90}\\sum_{i=1}^n \\left[ 7 f(x_{i-1}) + 32 f(x_{i-1} + \\frac{h}{4}) + 12 f(x_{i-\\frac{1}{2}}) + 32 f(x_{i} - \\frac{h}{4}) + 7 f(x_i)\\right]$$\n",
    "Остаточный член:\n",
    "$$R = \\frac{M_6 (b-a)}{1935360} h^6$$\n",
    "Так как многочлен 5 степени, а остаточный член содержит $M_6$, то $R = 0$, поэтому примем $h = b - a$, $n = 1$"
   ]
  },
  {
   "cell_type": "code",
   "execution_count": 7,
   "id": "aboriginal-concentration",
   "metadata": {},
   "outputs": [],
   "source": [
    "def Milne(a, b, f, h):\n",
    "    x_data = np.linspace(a, b, round((b - a) / h) + 1)\n",
    "    s = 0\n",
    "    for i in range(1, len(x_data)):\n",
    "        s += 7 * f(x_data[i-1])\n",
    "        s += 32 * f(x_data[i-1] + h / 4)\n",
    "        s += 12 * f((x_data[i] + x_data[i-1]) / 2)\n",
    "        s += 32 * f(x_data[i] - h / 4)\n",
    "        s += 7 * f(x_data[i])\n",
    "    s *= (h / 90)\n",
    "    return s"
   ]
  },
  {
   "cell_type": "code",
   "execution_count": 8,
   "id": "wrapped-contrast",
   "metadata": {},
   "outputs": [
    {
     "name": "stdout",
     "output_type": "stream",
     "text": [
      "Значение интеграла по формуле Mилна:  710.4\n",
      "Значение погрешности:  0.0\n",
      "Время вычисления:  0.0002498626708984375\n"
     ]
    }
   ],
   "source": [
    "h = b - a # берем весь отрезок\n",
    "start_time = time.time()\n",
    "I_Milne = Milne(a, b, Pm, h)\n",
    "stop_time = time.time()\n",
    "R_h = abs(I - I_Milne)\n",
    "print(\"Значение интеграла по формуле Mилна: \", I_Milne)\n",
    "print(\"Значение погрешности: \", R_h)\n",
    "print(\"Время вычисления: \", stop_time - start_time)"
   ]
  },
  {
   "cell_type": "markdown",
   "id": "numeric-threshold",
   "metadata": {},
   "source": [
    "**Квадратурная формула Гаусса**\n",
    "$$\\int_a^b f(x) dx \\approx \\frac{b-a}{2} \\sum_{i=0}^{N} A_i f\\left( \\frac{a+b}{2} + \\frac{b-a}{2} t_i \\right)$$\n",
    "Так как степень многочлена равна $5 = 2N+1 \\quad \\Rightarrow \\quad N = 2 \\quad \\Rightarrow \\quad N+1 = 3$ узла для вычисления интеграла без погрешности.\n",
    "\n",
    "Значения весов и узлов квадратурной формулы Гаусса: \\\n",
    "$t_0 = -\\sqrt{\\frac{3}{5}}$ \\\n",
    "$A_0 = \\frac{5}{9}$ \\\n",
    "$t_1 = 0$ \\\n",
    "$A_1 = \\frac{8}{9}$ \\\n",
    "$t_2 = \\sqrt{\\frac{3}{5}}$ \\\n",
    "$A_2 = \\frac{5}{9}$"
   ]
  },
  {
   "cell_type": "code",
   "execution_count": 9,
   "id": "proprietary-battlefield",
   "metadata": {},
   "outputs": [],
   "source": [
    "def Gauss():\n",
    "    t = [-np.sqrt(3/5), 0, np.sqrt(3/5)]\n",
    "    A = [5/9, 8/9, 5/9]\n",
    "    ab = (a + b) / 2\n",
    "    ba = (b - a) / 2\n",
    "    g = 0\n",
    "    for i in range(3):\n",
    "        x = ab + ba * t[i]\n",
    "        g += A[i] * Pm(x)\n",
    "    g *= ba\n",
    "    return g"
   ]
  },
  {
   "cell_type": "code",
   "execution_count": 10,
   "id": "reduced-paste",
   "metadata": {},
   "outputs": [
    {
     "name": "stdout",
     "output_type": "stream",
     "text": [
      "Значение интеграла по формуле Гаусса:  710.4000000000001\n",
      "Время вычисления:  0.0002739429473876953\n"
     ]
    }
   ],
   "source": [
    "start_time = time.time()\n",
    "I_Gauss = Gauss()\n",
    "stop_time = time.time()\n",
    "print(\"Значение интеграла по формуле Гаусса: \", I_Gauss)\n",
    "print(\"Время вычисления: \", stop_time - start_time)"
   ]
  },
  {
   "cell_type": "markdown",
   "id": "copyrighted-palmer",
   "metadata": {},
   "source": [
    "| Найденное точное значение интеграла<br>$I = 710.4$ | Число разбиений отрезка $n$<br>Шаг интегрирования $h$ | Значение интеграла, вычисленное по состваной формуле $I^h$<br>Величина погрешности интеграла, вычисленного по составной формуле $R^h$ |\n",
    "|----------------------------------------------------|-------------------------------------------------------|---------------------------------------------------------------------------------------------------------------------------------------|\n",
    "| Метод левых прямоугольников                        | $n = 94849$<br>$h = 2.1*10^{-5}$                      | $I^h = 710.3849697223905$<br>$R^h = 0.01503027760952591$                                                                              |\n",
    "| Формула Милна                                      | $n = 1$<br>$h = 2$                                    | $I^h = 710.4$<br>$R^h = 0$                                                                                                            |\n",
    "| Метод Гаусса                                       | Число узлов квадратуры: 3                             | $I^G = 710.4000000000001$                                                                                                             |"
   ]
  },
  {
   "cell_type": "markdown",
   "id": "rough-capture",
   "metadata": {},
   "source": [
    "## Задача 5.2\n",
    "Вычислить интеграл $I = \\int_a^b f(x) dx$ с точностью $\\varepsilon = 10^{-12}$ \\\n",
    "$f(x) = 2 x \\sin^2(3x)$ \\\n",
    "$\\left[a, b\\right] = \\left[-5, 0\\right]$"
   ]
  },
  {
   "cell_type": "markdown",
   "id": "extreme-hearts",
   "metadata": {},
   "source": [
    "#### Порядок решения задачи\n",
    "1. Вычислить интеграл с помощью средств пакета Python.\n",
    "2. Составить программу, содержащую следующие разделы:\n",
    "    - процедуру-функцию, вычисляющую интеграл по составной квадратурной формуле из индивидуального варианта $I^h$ с заданным шагом h.\n",
    "    - подпрограмму, вычисляющую значение интеграла с заданной точностью , оценку погрешности производить на основе правила Рунге.\n",
    "    - вычисление уточненного значение интеграла и величину погрешности\n",
    "Результатом работы программы должны быть следующие величины:\n",
    "    n - число разбиений отрезка интегрирования, при котором заданная точность достигнута\n",
    "    $I^h$ и $I^{h/2}$ полученные значения интеграла при шагах $h$ и $\\frac{h}{2}$ соответственно\n",
    "    $R^h = \\left| I^h - I \\right|$ и $R^{h/2} = \\left| I^{h/2} - I \\right|$ - величины абсолютных погрешностей\n",
    "    $I^{\\text{уточн}}$ и $R^{\\text{уточн}} = \\left| I - I^{\\text{уточн}} \\right|$\n",
    "3. Вычислить интеграл по программе и полученные данные свести в таблицу 5.2"
   ]
  },
  {
   "cell_type": "code",
   "execution_count": 11,
   "id": "human-savannah",
   "metadata": {},
   "outputs": [],
   "source": [
    "def f(x):\n",
    "    return 2 * x * np.sin(3 * x) ** 2"
   ]
  },
  {
   "cell_type": "code",
   "execution_count": 12,
   "id": "usual-combination",
   "metadata": {},
   "outputs": [
    {
     "name": "stdout",
     "output_type": "stream",
     "text": [
      "I =  -13.346852702024952\n",
      "abserr =  1.4816144925178048e-13\n"
     ]
    }
   ],
   "source": [
    "a, b = -5, 0\n",
    "I, err = integrate.quad(f, a, b)\n",
    "print(\"I = \", I)\n",
    "print(\"abserr = \", err)"
   ]
  },
  {
   "cell_type": "code",
   "execution_count": 13,
   "id": "grand-meeting",
   "metadata": {},
   "outputs": [
    {
     "data": {
      "image/png": "[encoded data removed]",
      "text/plain": [
       "<Figure size 432x288 with 1 Axes>"
      ]
     },
     "metadata": {
      "needs_background": "light"
     },
     "output_type": "display_data"
    }
   ],
   "source": [
    "x_data = np.linspace(a, b, 1000)\n",
    "plt.plot(x_data, f(x_data), label=f\"$f(x)$\")\n",
    "plt.fill_between(x=x_data, y1=f(x_data), y2=0, alpha=0.5,linewidth=2)\n",
    "plt.legend()\n",
    "plt.grid()"
   ]
  },
  {
   "cell_type": "markdown",
   "id": "equivalent-notion",
   "metadata": {},
   "source": [
    "Правило Рунге:\n",
    "$$I - I^{h/2} \\approx \\frac{I^{h/2} - I^{h}}{2^{p}-1}$$\n",
    "Уточнение по Рунге:\n",
    "$$I \\approx I^{h/2} + \\frac{I^{h/2} - I^{h}}{2^{p}-1}$$"
   ]
  },
  {
   "cell_type": "code",
   "execution_count": 14,
   "id": "underlying-actor",
   "metadata": {},
   "outputs": [],
   "source": [
    "def I_RungeErr(a, b, f, eps, p, Ifunc):\n",
    "    n = 2\n",
    "    h = (b  - a) / n\n",
    "    Ih = Ifunc(a, b, f, h)\n",
    "    n *= 2\n",
    "    h = (b - a) / n\n",
    "    Ih2 = Ifunc(a, b, f, h)\n",
    "    while(abs(Ih2 - Ih)/(2**p - 1) >= eps):\n",
    "        n *= 2\n",
    "        h = (b - a) / n\n",
    "        Ih = Ih2\n",
    "        Ih2 = Ifunc(a, b, f, h)\n",
    "    return (Ih, Ih2, n) \n",
    "\n",
    "def Runge_clarify(Ih, Ih2, p):\n",
    "    return Ih2 + (Ih2 - Ih) / (2**p - 1)"
   ]
  },
  {
   "cell_type": "markdown",
   "id": "historic-tours",
   "metadata": {},
   "source": [
    "Для формулы Милна:"
   ]
  },
  {
   "cell_type": "code",
   "execution_count": 15,
   "id": "romance-wales",
   "metadata": {},
   "outputs": [
    {
     "name": "stdout",
     "output_type": "stream",
     "text": [
      "Ih =  -13.346852701964416\n",
      "Ih2 =  -13.346852702023988\n",
      "n =  256\n",
      "Rh =  6.053646472992114e-11\n",
      "Rh2 =  9.64561763794336e-13\n",
      "I(уточн) = -13.346852702024933\n",
      "R(уточн) =  1.9539925233402755e-14\n"
     ]
    }
   ],
   "source": [
    "eps = 1e-12\n",
    "Ih, Ih2, n = I_RungeErr(a, b, f, eps, 6, Milne)\n",
    "I_clarified = Runge_clarify(Ih, Ih2, 6)\n",
    "R_clarified = abs(I - I_clarified)\n",
    "print(\"Ih = \", Ih)\n",
    "print(\"Ih2 = \", Ih2)\n",
    "print(\"n = \", n)\n",
    "print(\"Rh = \", abs(I - Ih))\n",
    "print(\"Rh2 = \", abs(I - Ih2))\n",
    "print(\"I(уточн) =\", I_clarified)\n",
    "print(\"R(уточн) = \", R_clarified) "
   ]
  },
  {
   "cell_type": "markdown",
   "id": "partial-jenny",
   "metadata": {},
   "source": [
    "Для формулы левых прямоугольников:"
   ]
  },
  {
   "cell_type": "code",
   "execution_count": 16,
   "id": "changing-evidence",
   "metadata": {},
   "outputs": [
    {
     "name": "stdout",
     "output_type": "stream",
     "text": [
      "Ih =  -13.34685301709078\n",
      "Ih2 =  -13.346852859557847\n",
      "n =  67108864\n",
      "Rh =  3.1506582764961877e-07\n",
      "Rh2 =  1.5753289517306257e-07\n",
      "I(уточн) = -13.34685280704687\n",
      "R(уточн) =  1.0502191827299612e-07\n"
     ]
    }
   ],
   "source": [
    "eps = 1e-7\n",
    "Ih, Ih2, n = I_RungeErr(a, b, f, eps, 2, I_left_rect)\n",
    "I_clarified = Runge_clarify(Ih, Ih2, 2)\n",
    "R_clarified = abs(I - I_clarified)\n",
    "print(\"Ih = \", Ih)\n",
    "print(\"Ih2 = \", Ih2)\n",
    "print(\"n = \", n)\n",
    "print(\"Rh = \", abs(I - Ih))\n",
    "print(\"Rh2 = \", abs(I - Ih2))\n",
    "print(\"I(уточн) =\", I_clarified)\n",
    "print(\"R(уточн) = \", R_clarified) "
   ]
  },
  {
   "cell_type": "markdown",
   "id": "improving-moldova",
   "metadata": {},
   "source": [
    "|            **$I = -13.346852702024952$**            \t|      **Метод левых прямоугольников**     \t|              **Метод Милна**              \t|\n",
    "|:---------------------------------------------------:\t|:----------------------------------------:\t|:-----------------------------------------:\t|\n",
    "|              Погрешность $\\varepsilon$              \t|            $1 \\times 10^{-7}$            \t|            $1 \\times 10^{-12}$            \t|\n",
    "|             Число разбиений отрезка $n$             \t|                   $256$                  \t|                 $67108864$                \t|\n",
    "|                Значение интеграла $I$               \t|        $I^h = -13.34685301709078$        \t|        $I^h = -13.346852701964416$        \t|\n",
    "|                 Величина погрешности                \t|       $R^h =  3.15 \\times 10^{-7}$       \t|       $R^h =  6.05 \\times 10^{-11}$       \t|\n",
    "|            Уточненное значение интеграла            \t|  $I^{\\text{уточн}} = -13.34685280704687$ \t|  $I^{\\text{уточн}} = -13.346852702024933$ \t|\n",
    "| Величина погрешности уточненного значения интеграла \t| $R^{\\text{уточн}} = 1.05 \\times 10^{-7}$ \t| $R^{\\text{уточн}} = 1.95 \\times 10^{-14}$ \t|"
   ]
  }
 ],
 "metadata": {
  "kernelspec": {
   "display_name": "Python 3",
   "language": "python",
   "name": "python3"
  },
  "language_info": {
   "codemirror_mode": {
    "name": "ipython",
    "version": 3
   },
   "file_extension": ".py",
   "mimetype": "text/x-python",
   "name": "python",
   "nbconvert_exporter": "python",
   "pygments_lexer": "ipython3",
   "version": "3.7.5"
  }
 },
 "nbformat": 4,
 "nbformat_minor": 5
}
